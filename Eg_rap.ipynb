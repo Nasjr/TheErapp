{
 "cells": [
  {
   "cell_type": "code",
   "execution_count": 389,
   "metadata": {},
   "outputs": [
    {
     "name": "stderr",
     "output_type": "stream",
     "text": [
      "[nltk_data] Downloading package stopwords to\n",
      "[nltk_data]     C:\\Users\\MahmoudNasser\\AppData\\Roaming\\nltk_data...\n",
      "[nltk_data]   Package stopwords is already up-to-date!\n"
     ]
    }
   ],
   "source": [
    "import pandas as pd\n",
    "import numpy as np\n",
    "import matplotlib.pyplot as plt\n",
    "from sklearn.feature_extraction.text import TfidfVectorizer,CountVectorizer\n",
    "from sklearn.metrics.pairwise import cosine_similarity\n",
    "import seaborn as sns\n",
    "from matplotlib import style\n",
    "import re\n",
    "from arabic_reshaper import arabic_reshaper\n",
    "from bidi.algorithm import get_display\n",
    "import nltk\n",
    "import string\n",
    "nltk.download('stopwords')\n",
    "from collections import Counter\n",
    "sns.set(font='DejaVu Sans')\n"
   ]
  },
  {
   "cell_type": "code",
   "execution_count": 356,
   "metadata": {},
   "outputs": [],
   "source": [
    "style.use('ggplot')"
   ]
  },
  {
   "attachments": {},
   "cell_type": "markdown",
   "metadata": {},
   "source": [
    "# Egy-Rap Scene\n",
    "\n",
    "### In this project we are going to answer some questions about the Egyptian rap artists Marawan Moussa, Marawn Pablo, abyo, Wegz and Afroto\n",
    "### We are going to start with some questions like :\n",
    "\n",
    "\n",
    "- What are the most common words or phrases across all of the songs of an artist?\n",
    "- Are there any words or phrases that appear more frequently in the lyrics of certain artists?\n",
    "- Do certain artists tend to write longer or shorter songs than others?\n",
    "- Are there any trends or patterns in the sentiment of the lyrics over time or across different artists?\n",
    "- Are there any topics or themes that are particularly prevalent in the lyrics of certain artists or genres?\n",
    "- Are the songs of the artist similar and are the songs of different artists similart ?\n",
    "\n",
    "\n"
   ]
  },
  {
   "attachments": {},
   "cell_type": "markdown",
   "metadata": {},
   "source": [
    "### Start With Text preprocessing"
   ]
  },
  {
   "cell_type": "code",
   "execution_count": 454,
   "metadata": {},
   "outputs": [],
   "source": [
    "stop_words_ =['من','في','على','و','فى','يا','عن','مع','ان','هو','علي','ما','اللي','كل','بعد','ده','اليوم','أن','يوم','انا',\n",
    "              'إلى','كان','ايه','اللى','الى','دي','بين','انت','أنا','حتى','لما','فيه',\n",
    " 'هذا','واحد','احنا','اي','كده','إن','او','أو','عليه','ف','دى','مين','الي','كانت',\n",
    " 'أمام','زي','يكون','خلال','ع','كنت','هي','فيها','عند','التي','الذي','قال','هذه','قد',\n",
    " 'انه','ريتويت','بعض','أول','ايه','الان','أي','منذ','عليها','له','ال','تم','ب','دة','عليك','اى','كلها','اللتى','هى','دا',\n",
    " 'انك','وهو','ومن','منك','نحن','زى','أنت','انهم','معانا','حتي','وانا','عنه','إلي','ونحن','وانت','منكم','وان',\n",
    " 'معاهم','معايا','وأنا','عنها','إنه','اني','معك','اننا','فيهم','د','انتا','عنك','وهى','معا','آن','انتي','وأنت',\n",
    " 'وإن','ومع','وعن','معاكم','معاكو','معاها','وعليه','وانتم','وانتي','¿','|','فين','كله','عنده','علشان','للي',\n",
    " \"كدا\",'لكل','فيك','بييني وبينك','فكك',\"بيننا\",'جوا','الاخر','دول','انتو','خالص',\"طب\",\"بجد\",\"بتاع\",\"عشان\"]\n",
    "\n",
    "list_of_stop_Words=open('arabic_stop_words.txt','r',encoding='utf-8').read()\n",
    "\n",
    "def normalize(text):\n",
    "    filtered_text = [] \n",
    "    for sentence in text:\n",
    "        sentence = re.sub(\"[إأآا]\", \"ا\", sentence)\n",
    "        sentence = re.sub(\"ى\", \"ي\", sentence)\n",
    "        sentence = re.sub(\"ؤ\", \"ء\", sentence)\n",
    "        sentence = re.sub(\"ئ\", \"ء\", sentence)\n",
    "        sentence = re.sub(\"ة\", \"ه\", sentence)\n",
    "        sentence = re.sub(\"گ\", \"ك\", sentence)\n",
    "        sentence = re.sub('\\[المقدمة\\]',' ',sentence)\n",
    "        sentence = re.sub('\\[المقطع\\]',' ',sentence)\n",
    "        sentence = re.sub('\\[الخاتمة\\]',' ',sentence) \n",
    "        sentence = re.sub('\\[المقدمه\\]',' ',sentence)\n",
    "        sentence = re.sub('\\[الخاتمه\\]',' ',sentence)\n",
    "        sentence = re.sub('\\[المقطع الثاني\\]',' ',sentence)\n",
    "        sentence = re.sub('\\[المقطع الاول\\]',' ',sentence)\n",
    "        sentence = re.sub('المقطع الاول',' ',sentence)\n",
    "        sentence = re.sub('\\[اللازمه\\]',' ',sentence)\n",
    "        sentence = re.sub('\\[اللازمه\\]',' ',sentence)\n",
    "        sentence = re.sub('\\[اللازمة\\]',' ',sentence)\n",
    "        sentence = re.sub(r\"[\\\\n]\", \" \", sentence)\n",
    "        sentence = re.sub(r'\\[','',sentence)\n",
    "        sentence = re.sub(r'\\]','',sentence)\n",
    "        sentence = re.sub('ال',' ',sentence)\n",
    " \n",
    "        sentence= re.sub('u202b','Beat',sentence)\n",
    "        filtered_text.append(sentence)\n",
    "    return pd.DataFrame(data = filtered_text, columns = ['Lyrics'])\n",
    "\n",
    "def remove_stopwords(text):\n",
    "    stop_words = set(nltk.corpus.stopwords.words('English'))\n",
    "    remove_stop_word = lambda x: ' '.join([word for word in x.split() if word not in stop_words and word not in stop_words_ and word not in list_of_stop_Words])\n",
    "    return text.apply(remove_stop_word)\n",
    "\n",
    "def remove_puncs(text):\n",
    "    punctuations = '''`÷×؛<>_()*&^%][ـ،/:\"؟.,'{}~¦+|!”…“–ـ''' + string.punctuation\n",
    "    filtered_text = [] \n",
    "    for sentence in text: \n",
    "        translator = str.maketrans('', '', punctuations)\n",
    "        filtered_text.append(sentence.translate(translator))\n",
    "    return filtered_text\n",
    "\n",
    "def remove_emojis(text):\n",
    "    remove_Emoji = lambda x : re.compile(pattern = \"[\"\n",
    "        u\"\\U0001F600-\\U0001F64F\"\n",
    "        u\"\\U0001F300-\\U0001F5FF\"\n",
    "        u\"\\U0001F680-\\U0001F6FF\"\n",
    "        u\"\\U0001F1E0-\\U0001F1FF\"\n",
    "                           \"]+\", flags = re.UNICODE).sub(r'',x)\n",
    "    return text.apply(remove_Emoji)\n",
    "\n",
    "# # def stemming(text):\n",
    "#     ArListem = ArabicLightStemmer()\n",
    "#     each_lemma_word = []\n",
    "#     each_lemma_sentence = []\n",
    "#     for sentence in text:\n",
    "#         for word in sentence.split():\n",
    "#             stem = ArListem.light_stem(word)\n",
    "#             each_lemma_word.append(stem)\n",
    "#         each_lemma_sentence.append(\" \".join(each_lemma_word))\n",
    "#         each_lemma_word.clear()\n",
    "#     return each_lemma_sentence\n",
    "def clean_text(text,lyrics_col):\n",
    "    s1 = normalize(text)\n",
    "    print('normalized!')\n",
    "    \n",
    "    s2 = remove_stopwords(s1[lyrics_col])\n",
    "    print('stop words removed!')\n",
    "    \n",
    "    s3 = remove_emojis(s2)\n",
    "    print('emojis removed! ')\n",
    "    \n",
    "    s4 =  remove_puncs(s3)\n",
    "    print('punctuations removed!')\n",
    "        \n",
    "    return s4\n"
   ]
  },
  {
   "cell_type": "code",
   "execution_count": 455,
   "metadata": {},
   "outputs": [],
   "source": [
    "marawn_pablo=pd.read_csv('Marwan pablo-songs.csv',encoding='utf-8')\n",
    "marawn_pablo.head()\n",
    "marawn_pablo.dropna(inplace=True)"
   ]
  },
  {
   "cell_type": "code",
   "execution_count": 456,
   "metadata": {},
   "outputs": [],
   "source": [
    "Wegz=pd.read_csv('Wegz-songs.csv')\n",
    "Wegz.head()\n",
    "Wegz.dropna(inplace=True)"
   ]
  },
  {
   "cell_type": "code",
   "execution_count": 457,
   "metadata": {},
   "outputs": [
    {
     "data": {
      "text/html": [
       "<div>\n",
       "<style scoped>\n",
       "    .dataframe tbody tr th:only-of-type {\n",
       "        vertical-align: middle;\n",
       "    }\n",
       "\n",
       "    .dataframe tbody tr th {\n",
       "        vertical-align: top;\n",
       "    }\n",
       "\n",
       "    .dataframe thead th {\n",
       "        text-align: right;\n",
       "    }\n",
       "</style>\n",
       "<table border=\"1\" class=\"dataframe\">\n",
       "  <thead>\n",
       "    <tr style=\"text-align: right;\">\n",
       "      <th></th>\n",
       "      <th>Title</th>\n",
       "      <th>Artist</th>\n",
       "      <th>Song_url</th>\n",
       "      <th>Lyrics</th>\n",
       "      <th>Date_published</th>\n",
       "      <th>image_url</th>\n",
       "    </tr>\n",
       "  </thead>\n",
       "  <tbody>\n",
       "    <tr>\n",
       "      <th>0</th>\n",
       "      <td>12 De2i2a | ١٢ دقيقة by Marwan Moussa - مروان ...</td>\n",
       "      <td>Marwan moussa</td>\n",
       "      <td>https://genius.com/Marwan-moussa-12-de2i2a-lyrics</td>\n",
       "      <td>['[اللازمة]\\nعزيزي الإنسان\\nنفسي أموّت الناموس...</td>\n",
       "      <td>May 17, 2018</td>\n",
       "      <td>https://images.genius.com/d575036dabb413e5aa5e...</td>\n",
       "    </tr>\n",
       "    <tr>\n",
       "      <th>1</th>\n",
       "      <td>1/4 Qarn | ١/٤ قرن by Marwan Moussa - مروان مو...</td>\n",
       "      <td>Marwan moussa</td>\n",
       "      <td>https://genius.com/Marwan-moussa-1-4-qarn-lyrics</td>\n",
       "      <td>['[المقدمة: مروان موسى]\\nإسماعيلية الدولة، أنا...</td>\n",
       "      <td>January 1, 2021</td>\n",
       "      <td>https://images.genius.com/84eb8a7c4b5b49272653...</td>\n",
       "    </tr>\n",
       "    <tr>\n",
       "      <th>2</th>\n",
       "      <td>2001 by Marwan Moussa - مروان موسى</td>\n",
       "      <td>Marwan moussa</td>\n",
       "      <td>https://genius.com/Marwan-moussa-2001-lyrics</td>\n",
       "      <td>['[المقطع الاول]\\nالتاريخ في عربيتي ٢٠٠١\\nعايش...</td>\n",
       "      <td>May 24, 2017</td>\n",
       "      <td>https://images.genius.com/d62ae463f82c6a2adb03...</td>\n",
       "    </tr>\n",
       "    <tr>\n",
       "      <th>3</th>\n",
       "      <td>2el Meny Shokran | قل مني شكرا by Hesham Rapto...</td>\n",
       "      <td>Marwan moussa</td>\n",
       "      <td>https://genius.com/Hesham-raptor-2el-meny-shok...</td>\n",
       "      <td>['[المقطع الأول]\\nعايز تكلم رابتور أبعت قل مني...</td>\n",
       "      <td>March 3, 2018</td>\n",
       "      <td>https://images.genius.com/41b3e06905427880dbb0...</td>\n",
       "    </tr>\n",
       "    <tr>\n",
       "      <th>4</th>\n",
       "      <td>300 Marra | ٣٠٠ مرة by Abyusif - أبيوسف</td>\n",
       "      <td>Marwan moussa</td>\n",
       "      <td>https://genius.com/Abyusif-300-marra-lyrics</td>\n",
       "      <td>['[المقطع الأول]\\nما جيتيش في بالي النهاردة\\nغ...</td>\n",
       "      <td>January 22, 2019</td>\n",
       "      <td>https://images.genius.com/23df951fefaf9135a5c3...</td>\n",
       "    </tr>\n",
       "  </tbody>\n",
       "</table>\n",
       "</div>"
      ],
      "text/plain": [
       "                                               Title         Artist   \n",
       "0  12 De2i2a | ١٢ دقيقة by Marwan Moussa - مروان ...  Marwan moussa  \\\n",
       "1  1/4 Qarn | ١/٤ قرن by Marwan Moussa - مروان مو...  Marwan moussa   \n",
       "2                 2001 by Marwan Moussa - مروان موسى  Marwan moussa   \n",
       "3  2el Meny Shokran | قل مني شكرا by Hesham Rapto...  Marwan moussa   \n",
       "4            300 Marra | ٣٠٠ مرة by Abyusif - أبيوسف  Marwan moussa   \n",
       "\n",
       "                                            Song_url   \n",
       "0  https://genius.com/Marwan-moussa-12-de2i2a-lyrics  \\\n",
       "1   https://genius.com/Marwan-moussa-1-4-qarn-lyrics   \n",
       "2       https://genius.com/Marwan-moussa-2001-lyrics   \n",
       "3  https://genius.com/Hesham-raptor-2el-meny-shok...   \n",
       "4        https://genius.com/Abyusif-300-marra-lyrics   \n",
       "\n",
       "                                              Lyrics    Date_published   \n",
       "0  ['[اللازمة]\\nعزيزي الإنسان\\nنفسي أموّت الناموس...      May 17, 2018  \\\n",
       "1  ['[المقدمة: مروان موسى]\\nإسماعيلية الدولة، أنا...   January 1, 2021   \n",
       "2  ['[المقطع الاول]\\nالتاريخ في عربيتي ٢٠٠١\\nعايش...      May 24, 2017   \n",
       "3  ['[المقطع الأول]\\nعايز تكلم رابتور أبعت قل مني...     March 3, 2018   \n",
       "4  ['[المقطع الأول]\\nما جيتيش في بالي النهاردة\\nغ...  January 22, 2019   \n",
       "\n",
       "                                           image_url  \n",
       "0  https://images.genius.com/d575036dabb413e5aa5e...  \n",
       "1  https://images.genius.com/84eb8a7c4b5b49272653...  \n",
       "2  https://images.genius.com/d62ae463f82c6a2adb03...  \n",
       "3  https://images.genius.com/41b3e06905427880dbb0...  \n",
       "4  https://images.genius.com/23df951fefaf9135a5c3...  "
      ]
     },
     "execution_count": 457,
     "metadata": {},
     "output_type": "execute_result"
    }
   ],
   "source": [
    "marawn_moussa=pd.read_csv('Marwan moussa-songs.csv')\n",
    "marawn_moussa.dropna(inplace=True)\n",
    "marawn_moussa.head()"
   ]
  },
  {
   "cell_type": "code",
   "execution_count": 458,
   "metadata": {},
   "outputs": [
    {
     "data": {
      "text/html": [
       "<div>\n",
       "<style scoped>\n",
       "    .dataframe tbody tr th:only-of-type {\n",
       "        vertical-align: middle;\n",
       "    }\n",
       "\n",
       "    .dataframe tbody tr th {\n",
       "        vertical-align: top;\n",
       "    }\n",
       "\n",
       "    .dataframe thead th {\n",
       "        text-align: right;\n",
       "    }\n",
       "</style>\n",
       "<table border=\"1\" class=\"dataframe\">\n",
       "  <thead>\n",
       "    <tr style=\"text-align: right;\">\n",
       "      <th></th>\n",
       "      <th>Title</th>\n",
       "      <th>Artist</th>\n",
       "      <th>Song_url</th>\n",
       "      <th>Lyrics</th>\n",
       "      <th>Date_published</th>\n",
       "      <th>image_url</th>\n",
       "    </tr>\n",
       "  </thead>\n",
       "  <tbody>\n",
       "    <tr>\n",
       "      <th>0</th>\n",
       "      <td>16 Bar | ١٦ بار by Afroto - عفروتو</td>\n",
       "      <td>Afroto</td>\n",
       "      <td>https://genius.com/Afroto-16-bar-lyrics</td>\n",
       "      <td>['[المقدمة]\\n١٦ بار بالإسكندراني\\nInto My Mind...</td>\n",
       "      <td>December 12, 2019</td>\n",
       "      <td>https://images.genius.com/59b394fab179902f6bb8...</td>\n",
       "    </tr>\n",
       "    <tr>\n",
       "      <th>1</th>\n",
       "      <td>3Akaret | عكاريت by Afroto - عفروتو</td>\n",
       "      <td>Afroto</td>\n",
       "      <td>https://genius.com/Afroto-3akaret-lyrics</td>\n",
       "      <td>['[اللازمة]\\nكل الشباب دي عكاريت بيخافوا مني م...</td>\n",
       "      <td>April 8, 2021</td>\n",
       "      <td>https://images.genius.com/146ae7366064dc7652d0...</td>\n",
       "    </tr>\n",
       "    <tr>\n",
       "      <th>2</th>\n",
       "      <td>3al Sa5an | عالسخان by Batistuta - باتيستوتا (...</td>\n",
       "      <td>Afroto</td>\n",
       "      <td>https://genius.com/Batistuta-3al-sa5an-lyrics</td>\n",
       "      <td>['[المقدمة]\\nراشد\\nPop pop\\nإسمع أبن والدي\\nعف...</td>\n",
       "      <td>February 22, 2020</td>\n",
       "      <td>https://images.genius.com/faf25b55a5abfe38073a...</td>\n",
       "    </tr>\n",
       "    <tr>\n",
       "      <th>3</th>\n",
       "      <td>3la 3eny | على عيني by Afroto - عفروتو</td>\n",
       "      <td>Afroto</td>\n",
       "      <td>https://genius.com/Afroto-3la-3eny-lyrics</td>\n",
       "      <td>['[المقطع الأول]\\nمفيش بالحب مفيش قريب\\nفا إضط...</td>\n",
       "      <td>April 19, 2020</td>\n",
       "      <td>https://images.genius.com/47df05099ca976e54a17...</td>\n",
       "    </tr>\n",
       "    <tr>\n",
       "      <th>4</th>\n",
       "      <td>5ams 5ams | خمس خمس by Afroto - عفروتو (Ft. Ha...</td>\n",
       "      <td>Afroto</td>\n",
       "      <td>https://genius.com/Afroto-5ams-5ams-lyrics</td>\n",
       "      <td>['[اللازمة: حازم إسكالي]\\nعلى كل مسامع الناس\\n...</td>\n",
       "      <td>January 11, 2020</td>\n",
       "      <td>https://images.genius.com/589d060119c21b920447...</td>\n",
       "    </tr>\n",
       "  </tbody>\n",
       "</table>\n",
       "</div>"
      ],
      "text/plain": [
       "                                               Title  Artist   \n",
       "0                 16 Bar | ١٦ بار by Afroto - عفروتو  Afroto  \\\n",
       "1                3Akaret | عكاريت by Afroto - عفروتو  Afroto   \n",
       "2  3al Sa5an | عالسخان by Batistuta - باتيستوتا (...  Afroto   \n",
       "3             3la 3eny | على عيني by Afroto - عفروتو  Afroto   \n",
       "4  5ams 5ams | خمس خمس by Afroto - عفروتو (Ft. Ha...  Afroto   \n",
       "\n",
       "                                        Song_url   \n",
       "0        https://genius.com/Afroto-16-bar-lyrics  \\\n",
       "1       https://genius.com/Afroto-3akaret-lyrics   \n",
       "2  https://genius.com/Batistuta-3al-sa5an-lyrics   \n",
       "3      https://genius.com/Afroto-3la-3eny-lyrics   \n",
       "4     https://genius.com/Afroto-5ams-5ams-lyrics   \n",
       "\n",
       "                                              Lyrics     Date_published   \n",
       "0  ['[المقدمة]\\n١٦ بار بالإسكندراني\\nInto My Mind...  December 12, 2019  \\\n",
       "1  ['[اللازمة]\\nكل الشباب دي عكاريت بيخافوا مني م...      April 8, 2021   \n",
       "2  ['[المقدمة]\\nراشد\\nPop pop\\nإسمع أبن والدي\\nعف...  February 22, 2020   \n",
       "3  ['[المقطع الأول]\\nمفيش بالحب مفيش قريب\\nفا إضط...     April 19, 2020   \n",
       "4  ['[اللازمة: حازم إسكالي]\\nعلى كل مسامع الناس\\n...   January 11, 2020   \n",
       "\n",
       "                                           image_url  \n",
       "0  https://images.genius.com/59b394fab179902f6bb8...  \n",
       "1  https://images.genius.com/146ae7366064dc7652d0...  \n",
       "2  https://images.genius.com/faf25b55a5abfe38073a...  \n",
       "3  https://images.genius.com/47df05099ca976e54a17...  \n",
       "4  https://images.genius.com/589d060119c21b920447...  "
      ]
     },
     "execution_count": 458,
     "metadata": {},
     "output_type": "execute_result"
    }
   ],
   "source": [
    "Afroto=pd.read_csv('Afroto-songs.csv')\n",
    "Afroto.head()"
   ]
  },
  {
   "cell_type": "code",
   "execution_count": 459,
   "metadata": {},
   "outputs": [
    {
     "data": {
      "text/html": [
       "<div>\n",
       "<style scoped>\n",
       "    .dataframe tbody tr th:only-of-type {\n",
       "        vertical-align: middle;\n",
       "    }\n",
       "\n",
       "    .dataframe tbody tr th {\n",
       "        vertical-align: top;\n",
       "    }\n",
       "\n",
       "    .dataframe thead th {\n",
       "        text-align: right;\n",
       "    }\n",
       "</style>\n",
       "<table border=\"1\" class=\"dataframe\">\n",
       "  <thead>\n",
       "    <tr style=\"text-align: right;\">\n",
       "      <th></th>\n",
       "      <th>Title</th>\n",
       "      <th>Artist</th>\n",
       "      <th>Song_url</th>\n",
       "      <th>Lyrics</th>\n",
       "      <th>Date_published</th>\n",
       "      <th>image_url</th>\n",
       "    </tr>\n",
       "  </thead>\n",
       "  <tbody>\n",
       "    <tr>\n",
       "      <th>0</th>\n",
       "      <td>200K | ٢٠٠ ألف by Abyusif - أبيوسف</td>\n",
       "      <td>Abyusif</td>\n",
       "      <td>https://genius.com/Abyusif-200k-lyrics</td>\n",
       "      <td>['[المقدمة]\\nمية تسعة وتسعين ألف\\nمية تسعة وتس...</td>\n",
       "      <td>August 9, 2018</td>\n",
       "      <td>https://images.genius.com/e1e45627a2874e9f98bb...</td>\n",
       "    </tr>\n",
       "    <tr>\n",
       "      <th>3</th>\n",
       "      <td>2otta | قطة by Abyusif - أبيوسف</td>\n",
       "      <td>Abyusif</td>\n",
       "      <td>https://genius.com/Abyusif-2otta-lyrics</td>\n",
       "      <td>['[المقدمة]\\n\\u202bليل بابا ع الـ Beat\\nهيثم\\n...</td>\n",
       "      <td>February 14, 2021</td>\n",
       "      <td>https://images.genius.com/974abb8d1a908222bb8d...</td>\n",
       "    </tr>\n",
       "    <tr>\n",
       "      <th>4</th>\n",
       "      <td>300 Marra | ٣٠٠ مرة by Abyusif - أبيوسف</td>\n",
       "      <td>Abyusif</td>\n",
       "      <td>https://genius.com/Abyusif-300-marra-lyrics</td>\n",
       "      <td>['[المقطع الأول]\\nما جيتيش في بالي النهاردة\\nغ...</td>\n",
       "      <td>January 22, 2019</td>\n",
       "      <td>https://images.genius.com/23df951fefaf9135a5c3...</td>\n",
       "    </tr>\n",
       "    <tr>\n",
       "      <th>5</th>\n",
       "      <td>3AKSY | عكسي by Abyusif - أبيوسف</td>\n",
       "      <td>Abyusif</td>\n",
       "      <td>https://genius.com/Abyusif-3aksy-lyrics</td>\n",
       "      <td>['[اللازمة]\\nوأنا أدرى باللي أنا فيه\\nأنا فين،...</td>\n",
       "      <td>January 1, 2012</td>\n",
       "      <td>https://images.genius.com/982463a63dbb3fb05d25...</td>\n",
       "    </tr>\n",
       "    <tr>\n",
       "      <th>6</th>\n",
       "      <td>3amaltaha Agmad | عملتها أجمد by Abyusif - أبيوسف</td>\n",
       "      <td>Abyusif</td>\n",
       "      <td>https://genius.com/Abyusif-3amaltaha-agmad-lyrics</td>\n",
       "      <td>['[المقطع الأول]\\nحديث مع الأنا، أجمد أغنية إن...</td>\n",
       "      <td>September 10, 2019</td>\n",
       "      <td>https://images.genius.com/a2b2ee4b4b2f14fb8dc5...</td>\n",
       "    </tr>\n",
       "  </tbody>\n",
       "</table>\n",
       "</div>"
      ],
      "text/plain": [
       "                                               Title   Artist   \n",
       "0                 200K | ٢٠٠ ألف by Abyusif - أبيوسف  Abyusif  \\\n",
       "3                    2otta | قطة by Abyusif - أبيوسف  Abyusif   \n",
       "4            300 Marra | ٣٠٠ مرة by Abyusif - أبيوسف  Abyusif   \n",
       "5                   3AKSY | عكسي by Abyusif - أبيوسف  Abyusif   \n",
       "6  3amaltaha Agmad | عملتها أجمد by Abyusif - أبيوسف  Abyusif   \n",
       "\n",
       "                                            Song_url   \n",
       "0             https://genius.com/Abyusif-200k-lyrics  \\\n",
       "3            https://genius.com/Abyusif-2otta-lyrics   \n",
       "4        https://genius.com/Abyusif-300-marra-lyrics   \n",
       "5            https://genius.com/Abyusif-3aksy-lyrics   \n",
       "6  https://genius.com/Abyusif-3amaltaha-agmad-lyrics   \n",
       "\n",
       "                                              Lyrics      Date_published   \n",
       "0  ['[المقدمة]\\nمية تسعة وتسعين ألف\\nمية تسعة وتس...      August 9, 2018  \\\n",
       "3  ['[المقدمة]\\n\\u202bليل بابا ع الـ Beat\\nهيثم\\n...   February 14, 2021   \n",
       "4  ['[المقطع الأول]\\nما جيتيش في بالي النهاردة\\nغ...    January 22, 2019   \n",
       "5  ['[اللازمة]\\nوأنا أدرى باللي أنا فيه\\nأنا فين،...     January 1, 2012   \n",
       "6  ['[المقطع الأول]\\nحديث مع الأنا، أجمد أغنية إن...  September 10, 2019   \n",
       "\n",
       "                                           image_url  \n",
       "0  https://images.genius.com/e1e45627a2874e9f98bb...  \n",
       "3  https://images.genius.com/974abb8d1a908222bb8d...  \n",
       "4  https://images.genius.com/23df951fefaf9135a5c3...  \n",
       "5  https://images.genius.com/982463a63dbb3fb05d25...  \n",
       "6  https://images.genius.com/a2b2ee4b4b2f14fb8dc5...  "
      ]
     },
     "execution_count": 459,
     "metadata": {},
     "output_type": "execute_result"
    }
   ],
   "source": [
    "abyo=pd.read_csv('Abyusif-songs.csv')\n",
    "abyo.dropna(inplace=True)\n",
    "abyo.head()"
   ]
  },
  {
   "cell_type": "code",
   "execution_count": 460,
   "metadata": {},
   "outputs": [],
   "source": [
    "def exctract_title_ar_and_year(df,title):\n",
    "    df=df.copy()\n",
    "    df['Title_english'] = df['Title'].apply(lambda x:x.split('|')[0])\n",
    "    df['Title_ar'] = df['Title'].apply(lambda x:x.split('|')[-1])\n",
    "    df['Title_ar']=df['Title_ar'].apply(lambda x:x.split('by')[0])\n",
    "    df['year']=df['Date_published'].apply(lambda x:x.split(',')[-1])\n",
    "    df=df[['Title_english', 'Title_ar','Title','Artist', 'year', 'Lyrics','Song_url','image_url']]\n",
    "    df.drop(['Title'],axis=1,inplace=True)\n",
    "    df.index=df['Title_ar']\n",
    "    return df\n",
    "def get_cleaned_lyrics(df):\n",
    "    df=df.copy()\n",
    "    lyrics_col='Lyrics'\n",
    "    df['cleaned_lyrics']=clean_text(df[lyrics_col],lyrics_col)\n",
    "    df.drop(['Lyrics'],axis=1,inplace=True)\n",
    "    return df\n"
   ]
  },
  {
   "cell_type": "code",
   "execution_count": 461,
   "metadata": {},
   "outputs": [
    {
     "name": "stdout",
     "output_type": "stream",
     "text": [
      "normalized!\n",
      "stop words removed!\n",
      "emojis removed! \n",
      "punctuations removed!\n"
     ]
    },
    {
     "data": {
      "text/html": [
       "<div>\n",
       "<style scoped>\n",
       "    .dataframe tbody tr th:only-of-type {\n",
       "        vertical-align: middle;\n",
       "    }\n",
       "\n",
       "    .dataframe tbody tr th {\n",
       "        vertical-align: top;\n",
       "    }\n",
       "\n",
       "    .dataframe thead th {\n",
       "        text-align: right;\n",
       "    }\n",
       "</style>\n",
       "<table border=\"1\" class=\"dataframe\">\n",
       "  <thead>\n",
       "    <tr style=\"text-align: right;\">\n",
       "      <th></th>\n",
       "      <th>Title_english</th>\n",
       "      <th>Title_ar</th>\n",
       "      <th>Artist</th>\n",
       "      <th>year</th>\n",
       "      <th>Song_url</th>\n",
       "      <th>image_url</th>\n",
       "      <th>cleaned_lyrics</th>\n",
       "    </tr>\n",
       "    <tr>\n",
       "      <th>Title_ar</th>\n",
       "      <th></th>\n",
       "      <th></th>\n",
       "      <th></th>\n",
       "      <th></th>\n",
       "      <th></th>\n",
       "      <th></th>\n",
       "      <th></th>\n",
       "    </tr>\n",
       "  </thead>\n",
       "  <tbody>\n",
       "    <tr>\n",
       "      <th>عادي فشخ</th>\n",
       "      <td>3adi Fash5</td>\n",
       "      <td>عادي فشخ</td>\n",
       "      <td>Marwan pablo</td>\n",
       "      <td>2016</td>\n",
       "      <td>https://genius.com/Marwan-pablo-3adi-fash5-lyrics</td>\n",
       "      <td>https://images.genius.com/851c4fd260fad7b7e457...</td>\n",
       "      <td>عادي فشخ فشخ تدي ايحاء روش فشخ حياتي ممله مسخ...</td>\n",
       "    </tr>\n",
       "    <tr>\n",
       "      <th>عالم إفتراضي</th>\n",
       "      <td>3alam Eftradi</td>\n",
       "      <td>عالم إفتراضي</td>\n",
       "      <td>Marwan pablo</td>\n",
       "      <td>2016</td>\n",
       "      <td>https://genius.com/Marwan-pablo-3alam-eftradi-...</td>\n",
       "      <td>https://images.genius.com/851c4fd260fad7b7e457...</td>\n",
       "      <td>بنام وبصحي اوضه اصغر دماغي عايش مكتءب افتراضي...</td>\n",
       "    </tr>\n",
       "    <tr>\n",
       "      <th>عايز فين</th>\n",
       "      <td>3ayz Fin</td>\n",
       "      <td>عايز فين</td>\n",
       "      <td>Marwan pablo</td>\n",
       "      <td>2018</td>\n",
       "      <td>https://genius.com/Marwan-pablo-3ayz-fin-lyrics</td>\n",
       "      <td>https://images.genius.com/a23f757b37fb5fe02440...</td>\n",
       "      <td>Ok WoohWoWo فاكر وريهم بقي عايز فين بقت بتدوس...</td>\n",
       "    </tr>\n",
       "    <tr>\n",
       "      <th>عزبة الجامع</th>\n",
       "      <td>3Ezbt El Game3</td>\n",
       "      <td>عزبة الجامع</td>\n",
       "      <td>Marwan pablo</td>\n",
       "      <td>2018</td>\n",
       "      <td>https://genius.com/Marwan-pablo-3ezbt-el-game3...</td>\n",
       "      <td>https://images.genius.com/cfd65e509e58dff1e6ba...</td>\n",
       "      <td>خلاص بطلت صحبه بتجمع حشيش خلاص بطلت صحبه بتجم...</td>\n",
       "    </tr>\n",
       "    <tr>\n",
       "      <th>خفافيش</th>\n",
       "      <td>5afafish</td>\n",
       "      <td>خفافيش</td>\n",
       "      <td>Marwan pablo</td>\n",
       "      <td>2016</td>\n",
       "      <td>https://genius.com/Marwan-pablo-5afafish-lyrics</td>\n",
       "      <td>https://images.genius.com/851c4fd260fad7b7e457...</td>\n",
       "      <td>احتكار بجري تتار كلامي ناسبك هيلففك بحار مزيك...</td>\n",
       "    </tr>\n",
       "  </tbody>\n",
       "</table>\n",
       "</div>"
      ],
      "text/plain": [
       "                  Title_english        Title_ar        Artist   year   \n",
       "Title_ar                                                               \n",
       " عادي فشخ           3adi Fash5        عادي فشخ   Marwan pablo   2016  \\\n",
       " عالم إفتراضي    3alam Eftradi    عالم إفتراضي   Marwan pablo   2016   \n",
       " عايز فين             3ayz Fin        عايز فين   Marwan pablo   2018   \n",
       " عزبة الجامع    3Ezbt El Game3     عزبة الجامع   Marwan pablo   2018   \n",
       " خفافيش               5afafish          خفافيش   Marwan pablo   2016   \n",
       "\n",
       "                                                         Song_url   \n",
       "Title_ar                                                            \n",
       " عادي فشخ       https://genius.com/Marwan-pablo-3adi-fash5-lyrics  \\\n",
       " عالم إفتراضي   https://genius.com/Marwan-pablo-3alam-eftradi-...   \n",
       " عايز فين         https://genius.com/Marwan-pablo-3ayz-fin-lyrics   \n",
       " عزبة الجامع    https://genius.com/Marwan-pablo-3ezbt-el-game3...   \n",
       " خفافيش           https://genius.com/Marwan-pablo-5afafish-lyrics   \n",
       "\n",
       "                                                        image_url   \n",
       "Title_ar                                                            \n",
       " عادي فشخ       https://images.genius.com/851c4fd260fad7b7e457...  \\\n",
       " عالم إفتراضي   https://images.genius.com/851c4fd260fad7b7e457...   \n",
       " عايز فين       https://images.genius.com/a23f757b37fb5fe02440...   \n",
       " عزبة الجامع    https://images.genius.com/cfd65e509e58dff1e6ba...   \n",
       " خفافيش         https://images.genius.com/851c4fd260fad7b7e457...   \n",
       "\n",
       "                                                   cleaned_lyrics  \n",
       "Title_ar                                                           \n",
       " عادي فشخ        عادي فشخ فشخ تدي ايحاء روش فشخ حياتي ممله مسخ...  \n",
       " عالم إفتراضي    بنام وبصحي اوضه اصغر دماغي عايش مكتءب افتراضي...  \n",
       " عايز فين        Ok WoohWoWo فاكر وريهم بقي عايز فين بقت بتدوس...  \n",
       " عزبة الجامع     خلاص بطلت صحبه بتجمع حشيش خلاص بطلت صحبه بتجم...  \n",
       " خفافيش          احتكار بجري تتار كلامي ناسبك هيلففك بحار مزيك...  "
      ]
     },
     "execution_count": 461,
     "metadata": {},
     "output_type": "execute_result"
    }
   ],
   "source": [
    "df1=exctract_title_ar_and_year(marawn_pablo,'Title')\n",
    "marawn_pablo_cleaned=get_cleaned_lyrics(df1)\n",
    "marawn_pablo_cleaned.head()"
   ]
  },
  {
   "cell_type": "code",
   "execution_count": 462,
   "metadata": {},
   "outputs": [
    {
     "data": {
      "text/plain": [
       "Index(['Title_english', 'Title_ar', 'Artist', 'year', 'Song_url', 'image_url',\n",
       "       'cleaned_lyrics'],\n",
       "      dtype='object')"
      ]
     },
     "execution_count": 462,
     "metadata": {},
     "output_type": "execute_result"
    }
   ],
   "source": [
    "marawn_pablo_cleaned.columns"
   ]
  },
  {
   "cell_type": "code",
   "execution_count": 463,
   "metadata": {},
   "outputs": [
    {
     "name": "stdout",
     "output_type": "stream",
     "text": [
      "normalized!\n",
      "stop words removed!\n",
      "emojis removed! \n",
      "punctuations removed!\n"
     ]
    },
    {
     "data": {
      "text/html": [
       "<div>\n",
       "<style scoped>\n",
       "    .dataframe tbody tr th:only-of-type {\n",
       "        vertical-align: middle;\n",
       "    }\n",
       "\n",
       "    .dataframe tbody tr th {\n",
       "        vertical-align: top;\n",
       "    }\n",
       "\n",
       "    .dataframe thead th {\n",
       "        text-align: right;\n",
       "    }\n",
       "</style>\n",
       "<table border=\"1\" class=\"dataframe\">\n",
       "  <thead>\n",
       "    <tr style=\"text-align: right;\">\n",
       "      <th></th>\n",
       "      <th>Title_english</th>\n",
       "      <th>Title_ar</th>\n",
       "      <th>Artist</th>\n",
       "      <th>year</th>\n",
       "      <th>Song_url</th>\n",
       "      <th>image_url</th>\n",
       "      <th>cleaned_lyrics</th>\n",
       "    </tr>\n",
       "    <tr>\n",
       "      <th>Title_ar</th>\n",
       "      <th></th>\n",
       "      <th></th>\n",
       "      <th></th>\n",
       "      <th></th>\n",
       "      <th></th>\n",
       "      <th></th>\n",
       "      <th></th>\n",
       "    </tr>\n",
       "  </thead>\n",
       "  <tbody>\n",
       "    <tr>\n",
       "      <th>16 بار بالعربي</th>\n",
       "      <td>16 بار بالعربي by Wegz - ويجز</td>\n",
       "      <td>16 بار بالعربي</td>\n",
       "      <td>Wegz</td>\n",
       "      <td>2018</td>\n",
       "      <td>https://genius.com/Wegz-16-lyrics</td>\n",
       "      <td>https://images.genius.com/d105b154dee6e16d9771...</td>\n",
       "      <td>زميلي زمايلي كتير ومعروفين جنبي بابا روفيل وش...</td>\n",
       "    </tr>\n",
       "    <tr>\n",
       "      <th>واحد وعشرين</th>\n",
       "      <td>21</td>\n",
       "      <td>واحد وعشرين</td>\n",
       "      <td>Wegz</td>\n",
       "      <td>2020</td>\n",
       "      <td>https://genius.com/Wegz-21-lyrics</td>\n",
       "      <td>https://images.genius.com/466c62649ebd062d85a9...</td>\n",
       "      <td>اوووه اووووه اووه اوه اوه اوه اوه اوووه اوووو...</td>\n",
       "    </tr>\n",
       "    <tr>\n",
       "      <th>على راحتي</th>\n",
       "      <td>3la Ra7ty</td>\n",
       "      <td>على راحتي</td>\n",
       "      <td>Wegz</td>\n",
       "      <td>2019</td>\n",
       "      <td>https://genius.com/Wegz-3la-ra7ty-lyrics</td>\n",
       "      <td>https://images.genius.com/65c387f140b9cd081901...</td>\n",
       "      <td>هلا عوده قلوبكم سوده بادء فوره جايبك شوقك كلف...</td>\n",
       "    </tr>\n",
       "    <tr>\n",
       "      <th>حرامية</th>\n",
       "      <td>7ramia</td>\n",
       "      <td>حرامية</td>\n",
       "      <td>Wegz</td>\n",
       "      <td>2018</td>\n",
       "      <td>https://genius.com/Vortex-7ramia-lyrics</td>\n",
       "      <td>https://images.genius.com/755623664c9af16a8866...</td>\n",
       "      <td>نمشي نيه جرايمنا علنيه مادشوا خانه فسمونا حرا...</td>\n",
       "    </tr>\n",
       "    <tr>\n",
       "      <th>عفاريت الأسفلت</th>\n",
       "      <td>Afareet El Asphalt</td>\n",
       "      <td>عفاريت الأسفلت</td>\n",
       "      <td>Wegz</td>\n",
       "      <td>2021</td>\n",
       "      <td>https://genius.com/Wegz-afareet-el-asphalt-lyrics</td>\n",
       "      <td>https://images.genius.com/ff638d281b6c7a448fd0...</td>\n",
       "      <td>ادليب بابا جيهه جيهه يجيها بابا جيهه جيهه يجيه...</td>\n",
       "    </tr>\n",
       "  </tbody>\n",
       "</table>\n",
       "</div>"
      ],
      "text/plain": [
       "                                  Title_english          Title_ar Artist   \n",
       "Title_ar                                                                   \n",
       "16 بار بالعربي    16 بار بالعربي by Wegz - ويجز   16 بار بالعربي    Wegz  \\\n",
       " واحد وعشرين                                21       واحد وعشرين    Wegz   \n",
       " على راحتي                           3la Ra7ty         على راحتي    Wegz   \n",
       " حرامية                                 7ramia            حرامية    Wegz   \n",
       " عفاريت الأسفلت             Afareet El Asphalt    عفاريت الأسفلت    Wegz   \n",
       "\n",
       "                   year                                           Song_url   \n",
       "Title_ar                                                                     \n",
       "16 بار بالعربي     2018                  https://genius.com/Wegz-16-lyrics  \\\n",
       " واحد وعشرين       2020                  https://genius.com/Wegz-21-lyrics   \n",
       " على راحتي         2019           https://genius.com/Wegz-3la-ra7ty-lyrics   \n",
       " حرامية            2018            https://genius.com/Vortex-7ramia-lyrics   \n",
       " عفاريت الأسفلت    2021  https://genius.com/Wegz-afareet-el-asphalt-lyrics   \n",
       "\n",
       "                                                          image_url   \n",
       "Title_ar                                                              \n",
       "16 بار بالعربي    https://images.genius.com/d105b154dee6e16d9771...  \\\n",
       " واحد وعشرين      https://images.genius.com/466c62649ebd062d85a9...   \n",
       " على راحتي        https://images.genius.com/65c387f140b9cd081901...   \n",
       " حرامية           https://images.genius.com/755623664c9af16a8866...   \n",
       " عفاريت الأسفلت   https://images.genius.com/ff638d281b6c7a448fd0...   \n",
       "\n",
       "                                                     cleaned_lyrics  \n",
       "Title_ar                                                             \n",
       "16 بار بالعربي     زميلي زمايلي كتير ومعروفين جنبي بابا روفيل وش...  \n",
       " واحد وعشرين       اوووه اووووه اووه اوه اوه اوه اوه اوووه اوووو...  \n",
       " على راحتي         هلا عوده قلوبكم سوده بادء فوره جايبك شوقك كلف...  \n",
       " حرامية            نمشي نيه جرايمنا علنيه مادشوا خانه فسمونا حرا...  \n",
       " عفاريت الأسفلت   ادليب بابا جيهه جيهه يجيها بابا جيهه جيهه يجيه...  "
      ]
     },
     "execution_count": 463,
     "metadata": {},
     "output_type": "execute_result"
    }
   ],
   "source": [
    "dfw=exctract_title_ar_and_year(Wegz,'Title')\n",
    "Wegz_cleaned=get_cleaned_lyrics(dfw)\n",
    "Wegz_cleaned.head()"
   ]
  },
  {
   "cell_type": "code",
   "execution_count": 464,
   "metadata": {},
   "outputs": [
    {
     "name": "stdout",
     "output_type": "stream",
     "text": [
      "normalized!\n",
      "stop words removed!\n",
      "emojis removed! \n",
      "punctuations removed!\n"
     ]
    },
    {
     "data": {
      "text/html": [
       "<div>\n",
       "<style scoped>\n",
       "    .dataframe tbody tr th:only-of-type {\n",
       "        vertical-align: middle;\n",
       "    }\n",
       "\n",
       "    .dataframe tbody tr th {\n",
       "        vertical-align: top;\n",
       "    }\n",
       "\n",
       "    .dataframe thead th {\n",
       "        text-align: right;\n",
       "    }\n",
       "</style>\n",
       "<table border=\"1\" class=\"dataframe\">\n",
       "  <thead>\n",
       "    <tr style=\"text-align: right;\">\n",
       "      <th></th>\n",
       "      <th>Title_english</th>\n",
       "      <th>Title_ar</th>\n",
       "      <th>Artist</th>\n",
       "      <th>year</th>\n",
       "      <th>Song_url</th>\n",
       "      <th>image_url</th>\n",
       "      <th>cleaned_lyrics</th>\n",
       "    </tr>\n",
       "    <tr>\n",
       "      <th>Title_ar</th>\n",
       "      <th></th>\n",
       "      <th></th>\n",
       "      <th></th>\n",
       "      <th></th>\n",
       "      <th></th>\n",
       "      <th></th>\n",
       "      <th></th>\n",
       "    </tr>\n",
       "  </thead>\n",
       "  <tbody>\n",
       "    <tr>\n",
       "      <th>١٦ بار</th>\n",
       "      <td>16 Bar</td>\n",
       "      <td>١٦ بار</td>\n",
       "      <td>Afroto</td>\n",
       "      <td>2019</td>\n",
       "      <td>https://genius.com/Afroto-16-bar-lyrics</td>\n",
       "      <td>https://images.genius.com/59b394fab179902f6bb8...</td>\n",
       "      <td>١٦ بار اسكندراني I My Mi عفروت راشد Yeah Ahme...</td>\n",
       "    </tr>\n",
       "    <tr>\n",
       "      <th>عكاريت</th>\n",
       "      <td>3Akaret</td>\n",
       "      <td>عكاريت</td>\n",
       "      <td>Afroto</td>\n",
       "      <td>2021</td>\n",
       "      <td>https://genius.com/Afroto-3akaret-lyrics</td>\n",
       "      <td>https://images.genius.com/146ae7366064dc7652d0...</td>\n",
       "      <td>شباب عكاريت بيخافوا مني مطاريد بعلم تلاميذ ود...</td>\n",
       "    </tr>\n",
       "    <tr>\n",
       "      <th>عالسخان</th>\n",
       "      <td>3al Sa5an</td>\n",
       "      <td>عالسخان</td>\n",
       "      <td>Afroto</td>\n",
       "      <td>2020</td>\n",
       "      <td>https://genius.com/Batistuta-3al-sa5an-lyrics</td>\n",
       "      <td>https://images.genius.com/faf25b55a5abfe38073a...</td>\n",
       "      <td>راشد Pop pop اسمع ابن عفرو وباتيستوتا عفرو Ye...</td>\n",
       "    </tr>\n",
       "    <tr>\n",
       "      <th>على عيني</th>\n",
       "      <td>3la 3eny</td>\n",
       "      <td>على عيني</td>\n",
       "      <td>Afroto</td>\n",
       "      <td>2020</td>\n",
       "      <td>https://genius.com/Afroto-3la-3eny-lyrics</td>\n",
       "      <td>https://images.genius.com/47df05099ca976e54a17...</td>\n",
       "      <td>مفيش حب مفيش قريب اضطريت اغيب عيني عيني يحاسب...</td>\n",
       "    </tr>\n",
       "    <tr>\n",
       "      <th>خمس خمس</th>\n",
       "      <td>5ams 5ams</td>\n",
       "      <td>خمس خمس</td>\n",
       "      <td>Afroto</td>\n",
       "      <td>2020</td>\n",
       "      <td>https://genius.com/Afroto-5ams-5ams-lyrics</td>\n",
       "      <td>https://images.genius.com/589d060119c21b920447...</td>\n",
       "      <td>لازمه حازم اسك مسامع ناس بعدي مافيش منافسين ت...</td>\n",
       "    </tr>\n",
       "  </tbody>\n",
       "</table>\n",
       "</div>"
      ],
      "text/plain": [
       "           Title_english    Title_ar  Artist   year   \n",
       "Title_ar                                              \n",
       " ١٦ بار          16 Bar      ١٦ بار   Afroto   2019  \\\n",
       " عكاريت         3Akaret      عكاريت   Afroto   2021   \n",
       " عالسخان      3al Sa5an     عالسخان   Afroto   2020   \n",
       " على عيني      3la 3eny    على عيني   Afroto   2020   \n",
       " خمس خمس      5ams 5ams     خمس خمس   Afroto   2020   \n",
       "\n",
       "                                                 Song_url   \n",
       "Title_ar                                                    \n",
       " ١٦ بار           https://genius.com/Afroto-16-bar-lyrics  \\\n",
       " عكاريت          https://genius.com/Afroto-3akaret-lyrics   \n",
       " عالسخان    https://genius.com/Batistuta-3al-sa5an-lyrics   \n",
       " على عيني       https://genius.com/Afroto-3la-3eny-lyrics   \n",
       " خمس خمس       https://genius.com/Afroto-5ams-5ams-lyrics   \n",
       "\n",
       "                                                    image_url   \n",
       "Title_ar                                                        \n",
       " ١٦ بار     https://images.genius.com/59b394fab179902f6bb8...  \\\n",
       " عكاريت     https://images.genius.com/146ae7366064dc7652d0...   \n",
       " عالسخان    https://images.genius.com/faf25b55a5abfe38073a...   \n",
       " على عيني   https://images.genius.com/47df05099ca976e54a17...   \n",
       " خمس خمس    https://images.genius.com/589d060119c21b920447...   \n",
       "\n",
       "                                               cleaned_lyrics  \n",
       "Title_ar                                                       \n",
       " ١٦ بار      ١٦ بار اسكندراني I My Mi عفروت راشد Yeah Ahme...  \n",
       " عكاريت      شباب عكاريت بيخافوا مني مطاريد بعلم تلاميذ ود...  \n",
       " عالسخان     راشد Pop pop اسمع ابن عفرو وباتيستوتا عفرو Ye...  \n",
       " على عيني    مفيش حب مفيش قريب اضطريت اغيب عيني عيني يحاسب...  \n",
       " خمس خمس     لازمه حازم اسك مسامع ناس بعدي مافيش منافسين ت...  "
      ]
     },
     "execution_count": 464,
     "metadata": {},
     "output_type": "execute_result"
    }
   ],
   "source": [
    "dfA=exctract_title_ar_and_year(Afroto,'Title')\n",
    "Afroto_cleaned=get_cleaned_lyrics(dfA)\n",
    "Afroto_cleaned.head()"
   ]
  },
  {
   "cell_type": "code",
   "execution_count": 465,
   "metadata": {},
   "outputs": [
    {
     "name": "stdout",
     "output_type": "stream",
     "text": [
      "normalized!\n",
      "stop words removed!\n",
      "emojis removed! \n",
      "punctuations removed!\n"
     ]
    },
    {
     "data": {
      "text/html": [
       "<div>\n",
       "<style scoped>\n",
       "    .dataframe tbody tr th:only-of-type {\n",
       "        vertical-align: middle;\n",
       "    }\n",
       "\n",
       "    .dataframe tbody tr th {\n",
       "        vertical-align: top;\n",
       "    }\n",
       "\n",
       "    .dataframe thead th {\n",
       "        text-align: right;\n",
       "    }\n",
       "</style>\n",
       "<table border=\"1\" class=\"dataframe\">\n",
       "  <thead>\n",
       "    <tr style=\"text-align: right;\">\n",
       "      <th></th>\n",
       "      <th>Title_english</th>\n",
       "      <th>Title_ar</th>\n",
       "      <th>Artist</th>\n",
       "      <th>year</th>\n",
       "      <th>Song_url</th>\n",
       "      <th>image_url</th>\n",
       "      <th>cleaned_lyrics</th>\n",
       "    </tr>\n",
       "    <tr>\n",
       "      <th>Title_ar</th>\n",
       "      <th></th>\n",
       "      <th></th>\n",
       "      <th></th>\n",
       "      <th></th>\n",
       "      <th></th>\n",
       "      <th></th>\n",
       "      <th></th>\n",
       "    </tr>\n",
       "  </thead>\n",
       "  <tbody>\n",
       "    <tr>\n",
       "      <th>٢٠٠ ألف</th>\n",
       "      <td>200K</td>\n",
       "      <td>٢٠٠ ألف</td>\n",
       "      <td>Abyusif</td>\n",
       "      <td>2018</td>\n",
       "      <td>https://genius.com/Abyusif-200k-lyrics</td>\n",
       "      <td>https://images.genius.com/e1e45627a2874e9f98bb...</td>\n",
       "      <td>ميه تسعه وتسعين ميه تسعه وتسعين ونص ميه تسعه ...</td>\n",
       "    </tr>\n",
       "    <tr>\n",
       "      <th>قطة</th>\n",
       "      <td>2otta</td>\n",
       "      <td>قطة</td>\n",
       "      <td>Abyusif</td>\n",
       "      <td>2021</td>\n",
       "      <td>https://genius.com/Abyusif-2otta-lyrics</td>\n",
       "      <td>https://images.genius.com/974abb8d1a908222bb8d...</td>\n",
       "      <td>Beatليل بابا  Beat هيثم وعشرين ولاد  هع رايحه...</td>\n",
       "    </tr>\n",
       "    <tr>\n",
       "      <th>٣٠٠ مرة</th>\n",
       "      <td>300 Marra</td>\n",
       "      <td>٣٠٠ مرة</td>\n",
       "      <td>Abyusif</td>\n",
       "      <td>2019</td>\n",
       "      <td>https://genius.com/Abyusif-300-marra-lyrics</td>\n",
       "      <td>https://images.genius.com/23df951fefaf9135a5c3...</td>\n",
       "      <td>جيتيش نهارده ٣٠٠ مره باينلك دماغي محبوسه بتطل...</td>\n",
       "    </tr>\n",
       "    <tr>\n",
       "      <th>عكسي</th>\n",
       "      <td>3AKSY</td>\n",
       "      <td>عكسي</td>\n",
       "      <td>Abyusif</td>\n",
       "      <td>2012</td>\n",
       "      <td>https://genius.com/Abyusif-3aksy-lyrics</td>\n",
       "      <td>https://images.genius.com/982463a63dbb3fb05d25...</td>\n",
       "      <td>ادري فين قلمين افوق فين قلمين نوم بيخلص بدري ...</td>\n",
       "    </tr>\n",
       "    <tr>\n",
       "      <th>عملتها أجمد</th>\n",
       "      <td>3amaltaha Agmad</td>\n",
       "      <td>عملتها أجمد</td>\n",
       "      <td>Abyusif</td>\n",
       "      <td>2019</td>\n",
       "      <td>https://genius.com/Abyusif-3amaltaha-agmad-lyrics</td>\n",
       "      <td>https://images.genius.com/a2b2ee4b4b2f14fb8dc5...</td>\n",
       "      <td>حديث انا اجمد اغنيه نزلتها عبقري مش كتبتها u2...</td>\n",
       "    </tr>\n",
       "  </tbody>\n",
       "</table>\n",
       "</div>"
      ],
      "text/plain": [
       "                  Title_english       Title_ar   Artist   year   \n",
       "Title_ar                                                         \n",
       " ٢٠٠ ألف                  200K        ٢٠٠ ألف   Abyusif   2018  \\\n",
       " قطة                     2otta            قطة   Abyusif   2021   \n",
       " ٣٠٠ مرة             300 Marra        ٣٠٠ مرة   Abyusif   2019   \n",
       " عكسي                    3AKSY           عكسي   Abyusif   2012   \n",
       " عملتها أجمد   3amaltaha Agmad    عملتها أجمد   Abyusif   2019   \n",
       "\n",
       "                                                        Song_url   \n",
       "Title_ar                                                           \n",
       " ٢٠٠ ألف                  https://genius.com/Abyusif-200k-lyrics  \\\n",
       " قطة                     https://genius.com/Abyusif-2otta-lyrics   \n",
       " ٣٠٠ مرة             https://genius.com/Abyusif-300-marra-lyrics   \n",
       " عكسي                    https://genius.com/Abyusif-3aksy-lyrics   \n",
       " عملتها أجمد   https://genius.com/Abyusif-3amaltaha-agmad-lyrics   \n",
       "\n",
       "                                                       image_url   \n",
       "Title_ar                                                           \n",
       " ٢٠٠ ألف       https://images.genius.com/e1e45627a2874e9f98bb...  \\\n",
       " قطة           https://images.genius.com/974abb8d1a908222bb8d...   \n",
       " ٣٠٠ مرة       https://images.genius.com/23df951fefaf9135a5c3...   \n",
       " عكسي          https://images.genius.com/982463a63dbb3fb05d25...   \n",
       " عملتها أجمد   https://images.genius.com/a2b2ee4b4b2f14fb8dc5...   \n",
       "\n",
       "                                                  cleaned_lyrics  \n",
       "Title_ar                                                          \n",
       " ٢٠٠ ألف        ميه تسعه وتسعين ميه تسعه وتسعين ونص ميه تسعه ...  \n",
       " قطة            Beatليل بابا  Beat هيثم وعشرين ولاد  هع رايحه...  \n",
       " ٣٠٠ مرة        جيتيش نهارده ٣٠٠ مره باينلك دماغي محبوسه بتطل...  \n",
       " عكسي           ادري فين قلمين افوق فين قلمين نوم بيخلص بدري ...  \n",
       " عملتها أجمد    حديث انا اجمد اغنيه نزلتها عبقري مش كتبتها u2...  "
      ]
     },
     "execution_count": 465,
     "metadata": {},
     "output_type": "execute_result"
    }
   ],
   "source": [
    "dfAb=exctract_title_ar_and_year(abyo,'Title')\n",
    "abyo_cleaned=get_cleaned_lyrics(dfAb)\n",
    "abyo_cleaned.head()"
   ]
  },
  {
   "cell_type": "code",
   "execution_count": 466,
   "metadata": {},
   "outputs": [
    {
     "name": "stdout",
     "output_type": "stream",
     "text": [
      "normalized!\n",
      "stop words removed!\n",
      "emojis removed! \n",
      "punctuations removed!\n"
     ]
    },
    {
     "data": {
      "text/html": [
       "<div>\n",
       "<style scoped>\n",
       "    .dataframe tbody tr th:only-of-type {\n",
       "        vertical-align: middle;\n",
       "    }\n",
       "\n",
       "    .dataframe tbody tr th {\n",
       "        vertical-align: top;\n",
       "    }\n",
       "\n",
       "    .dataframe thead th {\n",
       "        text-align: right;\n",
       "    }\n",
       "</style>\n",
       "<table border=\"1\" class=\"dataframe\">\n",
       "  <thead>\n",
       "    <tr style=\"text-align: right;\">\n",
       "      <th></th>\n",
       "      <th>Title_english</th>\n",
       "      <th>Title_ar</th>\n",
       "      <th>Artist</th>\n",
       "      <th>year</th>\n",
       "      <th>Song_url</th>\n",
       "      <th>image_url</th>\n",
       "      <th>cleaned_lyrics</th>\n",
       "    </tr>\n",
       "    <tr>\n",
       "      <th>Title_ar</th>\n",
       "      <th></th>\n",
       "      <th></th>\n",
       "      <th></th>\n",
       "      <th></th>\n",
       "      <th></th>\n",
       "      <th></th>\n",
       "      <th></th>\n",
       "    </tr>\n",
       "  </thead>\n",
       "  <tbody>\n",
       "    <tr>\n",
       "      <th>١٢ دقيقة</th>\n",
       "      <td>12 De2i2a</td>\n",
       "      <td>١٢ دقيقة</td>\n",
       "      <td>Marwan moussa</td>\n",
       "      <td>2018</td>\n",
       "      <td>https://genius.com/Marwan-moussa-12-de2i2a-lyrics</td>\n",
       "      <td>https://images.genius.com/d575036dabb413e5aa5e...</td>\n",
       "      <td>عزيزي انسان نفسي اموّت ناموسه مش بتخليك تنام ...</td>\n",
       "    </tr>\n",
       "    <tr>\n",
       "      <th>١/٤ قرن</th>\n",
       "      <td>1/4 Qarn</td>\n",
       "      <td>١/٤ قرن</td>\n",
       "      <td>Marwan moussa</td>\n",
       "      <td>2021</td>\n",
       "      <td>https://genius.com/Marwan-moussa-1-4-qarn-lyrics</td>\n",
       "      <td>https://images.genius.com/84eb8a7c4b5b49272653...</td>\n",
       "      <td>مقدمه مروان موسي اسماعيليه دوله ورع هنقلبها ف...</td>\n",
       "    </tr>\n",
       "    <tr>\n",
       "      <th>2001</th>\n",
       "      <td>2001 by Marwan Moussa - مروان موسى</td>\n",
       "      <td>2001</td>\n",
       "      <td>Marwan moussa</td>\n",
       "      <td>2017</td>\n",
       "      <td>https://genius.com/Marwan-moussa-2001-lyrics</td>\n",
       "      <td>https://images.genius.com/d62ae463f82c6a2adb03...</td>\n",
       "      <td>تاريخ عربيتي ٢٠٠١ عايش حياتي كاني ٢٠٠٠ لعّيب ...</td>\n",
       "    </tr>\n",
       "    <tr>\n",
       "      <th>قل مني شكرا</th>\n",
       "      <td>2el Meny Shokran</td>\n",
       "      <td>قل مني شكرا</td>\n",
       "      <td>Marwan moussa</td>\n",
       "      <td>2018</td>\n",
       "      <td>https://genius.com/Hesham-raptor-2el-meny-shok...</td>\n",
       "      <td>https://images.genius.com/41b3e06905427880dbb0...</td>\n",
       "      <td>عايز تكلم رابتور ابعت مني شكرا مني يكرم بينا ...</td>\n",
       "    </tr>\n",
       "    <tr>\n",
       "      <th>٣٠٠ مرة</th>\n",
       "      <td>300 Marra</td>\n",
       "      <td>٣٠٠ مرة</td>\n",
       "      <td>Marwan moussa</td>\n",
       "      <td>2019</td>\n",
       "      <td>https://genius.com/Abyusif-300-marra-lyrics</td>\n",
       "      <td>https://images.genius.com/23df951fefaf9135a5c3...</td>\n",
       "      <td>جيتيش نهارده ٣٠٠ مره باينلك دماغي محبوسه بتطل...</td>\n",
       "    </tr>\n",
       "  </tbody>\n",
       "</table>\n",
       "</div>"
      ],
      "text/plain": [
       "                                    Title_english       Title_ar   \n",
       "Title_ar                                                           \n",
       " ١٢ دقيقة                              12 De2i2a       ١٢ دقيقة   \\\n",
       " ١/٤ قرن                                1/4 Qarn        ١/٤ قرن    \n",
       "2001           2001 by Marwan Moussa - مروان موسى          2001    \n",
       " قل مني شكرا                    2el Meny Shokran    قل مني شكرا    \n",
       " ٣٠٠ مرة                               300 Marra        ٣٠٠ مرة    \n",
       "\n",
       "                      Artist   year   \n",
       "Title_ar                              \n",
       " ١٢ دقيقة      Marwan moussa   2018  \\\n",
       " ١/٤ قرن       Marwan moussa   2021   \n",
       "2001           Marwan moussa   2017   \n",
       " قل مني شكرا   Marwan moussa   2018   \n",
       " ٣٠٠ مرة       Marwan moussa   2019   \n",
       "\n",
       "                                                        Song_url   \n",
       "Title_ar                                                           \n",
       " ١٢ دقيقة      https://genius.com/Marwan-moussa-12-de2i2a-lyrics  \\\n",
       " ١/٤ قرن        https://genius.com/Marwan-moussa-1-4-qarn-lyrics   \n",
       "2001                https://genius.com/Marwan-moussa-2001-lyrics   \n",
       " قل مني شكرا   https://genius.com/Hesham-raptor-2el-meny-shok...   \n",
       " ٣٠٠ مرة             https://genius.com/Abyusif-300-marra-lyrics   \n",
       "\n",
       "                                                       image_url   \n",
       "Title_ar                                                           \n",
       " ١٢ دقيقة      https://images.genius.com/d575036dabb413e5aa5e...  \\\n",
       " ١/٤ قرن       https://images.genius.com/84eb8a7c4b5b49272653...   \n",
       "2001           https://images.genius.com/d62ae463f82c6a2adb03...   \n",
       " قل مني شكرا   https://images.genius.com/41b3e06905427880dbb0...   \n",
       " ٣٠٠ مرة       https://images.genius.com/23df951fefaf9135a5c3...   \n",
       "\n",
       "                                                  cleaned_lyrics  \n",
       "Title_ar                                                          \n",
       " ١٢ دقيقة       عزيزي انسان نفسي اموّت ناموسه مش بتخليك تنام ...  \n",
       " ١/٤ قرن        مقدمه مروان موسي اسماعيليه دوله ورع هنقلبها ف...  \n",
       "2001            تاريخ عربيتي ٢٠٠١ عايش حياتي كاني ٢٠٠٠ لعّيب ...  \n",
       " قل مني شكرا    عايز تكلم رابتور ابعت مني شكرا مني يكرم بينا ...  \n",
       " ٣٠٠ مرة        جيتيش نهارده ٣٠٠ مره باينلك دماغي محبوسه بتطل...  "
      ]
     },
     "execution_count": 466,
     "metadata": {},
     "output_type": "execute_result"
    }
   ],
   "source": [
    "dfM=exctract_title_ar_and_year(marawn_moussa,'Title')\n",
    "marawn_moussa_cleaned=get_cleaned_lyrics(dfM)\n",
    "marawn_moussa_cleaned.head()"
   ]
  },
  {
   "cell_type": "code",
   "execution_count": 467,
   "metadata": {},
   "outputs": [],
   "source": [
    "def get_num_words(df,clean_lyrics):\n",
    "    df=df.copy()\n",
    "    df['Num_words'] = df[clean_lyrics].str.split().apply(len)\n",
    "    return df\n",
    "def get_artisit_word_freq(df):\n",
    "    df=df.copy()\n",
    "    joined_text_Mp=' '.join(df['cleaned_lyrics'])\n",
    "    df_words=Counter(joined_text_Mp.split())\n",
    "\n",
    "\n",
    "    df=pd.DataFrame.from_dict(df_words,orient='index',columns=['Frequency'])\n",
    "    df=df.sort_values(by='Frequency',ascending=False)\n",
    "    return df"
   ]
  },
  {
   "cell_type": "code",
   "execution_count": 468,
   "metadata": {},
   "outputs": [],
   "source": [
    "marawn_pablo_cleaned=get_num_words(marawn_pablo_cleaned,'cleaned_lyrics')\n",
    "marawn_moussa_cleaned=get_num_words(marawn_moussa_cleaned,'cleaned_lyrics')\n",
    "Wegz_cleaned=get_num_words(Wegz_cleaned,'cleaned_lyrics')\n",
    "Afroto_cleaned=get_num_words(Afroto_cleaned,'cleaned_lyrics')\n",
    "abyo_cleaned=get_num_words(abyo_cleaned,'cleaned_lyrics')"
   ]
  },
  {
   "attachments": {},
   "cell_type": "markdown",
   "metadata": {},
   "source": [
    "# Eda for Artists"
   ]
  },
  {
   "cell_type": "code",
   "execution_count": 469,
   "metadata": {},
   "outputs": [],
   "source": [
    "#Average Numb of words for each artist\n",
    "list_of_artisits_df=[marawn_pablo_cleaned,marawn_moussa_cleaned,Wegz_cleaned,Afroto_cleaned,abyo_cleaned]\n",
    "artist_names=['Marawan Pablo','Marwan moussa','Wegz','Afroto','Abyusif']\n",
    "artist_avg_num_words=[]\n",
    "for artist in list_of_artisits_df:\n",
    "    artist_avg_num_words.append(artist['Num_words'].mean())"
   ]
  },
  {
   "cell_type": "code",
   "execution_count": 470,
   "metadata": {},
   "outputs": [],
   "source": [
    "import plotly\n",
    "import plotly.graph_objs as go\n",
    "from plotly.subplots import make_subplots\n",
    "from wordcloud import WordCloud\n",
    "import random\n",
    "from colour import Color"
   ]
  },
  {
   "cell_type": "code",
   "execution_count": 471,
   "metadata": {},
   "outputs": [
    {
     "data": {
      "application/vnd.plotly.v1+json": {
       "config": {
        "linkText": "Export to plot.ly",
        "plotlyServerURL": "https://plot.ly",
        "showLink": false
       },
       "data": [
        {
         "type": "bar",
         "x": [
          "Marawan Pablo",
          "Marwan moussa",
          "Wegz",
          "Afroto",
          "Abyusif"
         ],
         "y": [
          113.18604651162791,
          130.95744680851064,
          114.08695652173913,
          124.33333333333333,
          140.2051282051282
         ]
        }
       ],
       "layout": {
        "height": 500,
        "template": {
         "data": {
          "bar": [
           {
            "error_x": {
             "color": "#2a3f5f"
            },
            "error_y": {
             "color": "#2a3f5f"
            },
            "marker": {
             "line": {
              "color": "#E5ECF6",
              "width": 0.5
             },
             "pattern": {
              "fillmode": "overlay",
              "size": 10,
              "solidity": 0.2
             }
            },
            "type": "bar"
           }
          ],
          "barpolar": [
           {
            "marker": {
             "line": {
              "color": "#E5ECF6",
              "width": 0.5
             },
             "pattern": {
              "fillmode": "overlay",
              "size": 10,
              "solidity": 0.2
             }
            },
            "type": "barpolar"
           }
          ],
          "carpet": [
           {
            "aaxis": {
             "endlinecolor": "#2a3f5f",
             "gridcolor": "white",
             "linecolor": "white",
             "minorgridcolor": "white",
             "startlinecolor": "#2a3f5f"
            },
            "baxis": {
             "endlinecolor": "#2a3f5f",
             "gridcolor": "white",
             "linecolor": "white",
             "minorgridcolor": "white",
             "startlinecolor": "#2a3f5f"
            },
            "type": "carpet"
           }
          ],
          "choropleth": [
           {
            "colorbar": {
             "outlinewidth": 0,
             "ticks": ""
            },
            "type": "choropleth"
           }
          ],
          "contour": [
           {
            "colorbar": {
             "outlinewidth": 0,
             "ticks": ""
            },
            "colorscale": [
             [
              0,
              "#0d0887"
             ],
             [
              0.1111111111111111,
              "#46039f"
             ],
             [
              0.2222222222222222,
              "#7201a8"
             ],
             [
              0.3333333333333333,
              "#9c179e"
             ],
             [
              0.4444444444444444,
              "#bd3786"
             ],
             [
              0.5555555555555556,
              "#d8576b"
             ],
             [
              0.6666666666666666,
              "#ed7953"
             ],
             [
              0.7777777777777778,
              "#fb9f3a"
             ],
             [
              0.8888888888888888,
              "#fdca26"
             ],
             [
              1,
              "#f0f921"
             ]
            ],
            "type": "contour"
           }
          ],
          "contourcarpet": [
           {
            "colorbar": {
             "outlinewidth": 0,
             "ticks": ""
            },
            "type": "contourcarpet"
           }
          ],
          "heatmap": [
           {
            "colorbar": {
             "outlinewidth": 0,
             "ticks": ""
            },
            "colorscale": [
             [
              0,
              "#0d0887"
             ],
             [
              0.1111111111111111,
              "#46039f"
             ],
             [
              0.2222222222222222,
              "#7201a8"
             ],
             [
              0.3333333333333333,
              "#9c179e"
             ],
             [
              0.4444444444444444,
              "#bd3786"
             ],
             [
              0.5555555555555556,
              "#d8576b"
             ],
             [
              0.6666666666666666,
              "#ed7953"
             ],
             [
              0.7777777777777778,
              "#fb9f3a"
             ],
             [
              0.8888888888888888,
              "#fdca26"
             ],
             [
              1,
              "#f0f921"
             ]
            ],
            "type": "heatmap"
           }
          ],
          "heatmapgl": [
           {
            "colorbar": {
             "outlinewidth": 0,
             "ticks": ""
            },
            "colorscale": [
             [
              0,
              "#0d0887"
             ],
             [
              0.1111111111111111,
              "#46039f"
             ],
             [
              0.2222222222222222,
              "#7201a8"
             ],
             [
              0.3333333333333333,
              "#9c179e"
             ],
             [
              0.4444444444444444,
              "#bd3786"
             ],
             [
              0.5555555555555556,
              "#d8576b"
             ],
             [
              0.6666666666666666,
              "#ed7953"
             ],
             [
              0.7777777777777778,
              "#fb9f3a"
             ],
             [
              0.8888888888888888,
              "#fdca26"
             ],
             [
              1,
              "#f0f921"
             ]
            ],
            "type": "heatmapgl"
           }
          ],
          "histogram": [
           {
            "marker": {
             "pattern": {
              "fillmode": "overlay",
              "size": 10,
              "solidity": 0.2
             }
            },
            "type": "histogram"
           }
          ],
          "histogram2d": [
           {
            "colorbar": {
             "outlinewidth": 0,
             "ticks": ""
            },
            "colorscale": [
             [
              0,
              "#0d0887"
             ],
             [
              0.1111111111111111,
              "#46039f"
             ],
             [
              0.2222222222222222,
              "#7201a8"
             ],
             [
              0.3333333333333333,
              "#9c179e"
             ],
             [
              0.4444444444444444,
              "#bd3786"
             ],
             [
              0.5555555555555556,
              "#d8576b"
             ],
             [
              0.6666666666666666,
              "#ed7953"
             ],
             [
              0.7777777777777778,
              "#fb9f3a"
             ],
             [
              0.8888888888888888,
              "#fdca26"
             ],
             [
              1,
              "#f0f921"
             ]
            ],
            "type": "histogram2d"
           }
          ],
          "histogram2dcontour": [
           {
            "colorbar": {
             "outlinewidth": 0,
             "ticks": ""
            },
            "colorscale": [
             [
              0,
              "#0d0887"
             ],
             [
              0.1111111111111111,
              "#46039f"
             ],
             [
              0.2222222222222222,
              "#7201a8"
             ],
             [
              0.3333333333333333,
              "#9c179e"
             ],
             [
              0.4444444444444444,
              "#bd3786"
             ],
             [
              0.5555555555555556,
              "#d8576b"
             ],
             [
              0.6666666666666666,
              "#ed7953"
             ],
             [
              0.7777777777777778,
              "#fb9f3a"
             ],
             [
              0.8888888888888888,
              "#fdca26"
             ],
             [
              1,
              "#f0f921"
             ]
            ],
            "type": "histogram2dcontour"
           }
          ],
          "mesh3d": [
           {
            "colorbar": {
             "outlinewidth": 0,
             "ticks": ""
            },
            "type": "mesh3d"
           }
          ],
          "parcoords": [
           {
            "line": {
             "colorbar": {
              "outlinewidth": 0,
              "ticks": ""
             }
            },
            "type": "parcoords"
           }
          ],
          "pie": [
           {
            "automargin": true,
            "type": "pie"
           }
          ],
          "scatter": [
           {
            "fillpattern": {
             "fillmode": "overlay",
             "size": 10,
             "solidity": 0.2
            },
            "type": "scatter"
           }
          ],
          "scatter3d": [
           {
            "line": {
             "colorbar": {
              "outlinewidth": 0,
              "ticks": ""
             }
            },
            "marker": {
             "colorbar": {
              "outlinewidth": 0,
              "ticks": ""
             }
            },
            "type": "scatter3d"
           }
          ],
          "scattercarpet": [
           {
            "marker": {
             "colorbar": {
              "outlinewidth": 0,
              "ticks": ""
             }
            },
            "type": "scattercarpet"
           }
          ],
          "scattergeo": [
           {
            "marker": {
             "colorbar": {
              "outlinewidth": 0,
              "ticks": ""
             }
            },
            "type": "scattergeo"
           }
          ],
          "scattergl": [
           {
            "marker": {
             "colorbar": {
              "outlinewidth": 0,
              "ticks": ""
             }
            },
            "type": "scattergl"
           }
          ],
          "scattermapbox": [
           {
            "marker": {
             "colorbar": {
              "outlinewidth": 0,
              "ticks": ""
             }
            },
            "type": "scattermapbox"
           }
          ],
          "scatterpolar": [
           {
            "marker": {
             "colorbar": {
              "outlinewidth": 0,
              "ticks": ""
             }
            },
            "type": "scatterpolar"
           }
          ],
          "scatterpolargl": [
           {
            "marker": {
             "colorbar": {
              "outlinewidth": 0,
              "ticks": ""
             }
            },
            "type": "scatterpolargl"
           }
          ],
          "scatterternary": [
           {
            "marker": {
             "colorbar": {
              "outlinewidth": 0,
              "ticks": ""
             }
            },
            "type": "scatterternary"
           }
          ],
          "surface": [
           {
            "colorbar": {
             "outlinewidth": 0,
             "ticks": ""
            },
            "colorscale": [
             [
              0,
              "#0d0887"
             ],
             [
              0.1111111111111111,
              "#46039f"
             ],
             [
              0.2222222222222222,
              "#7201a8"
             ],
             [
              0.3333333333333333,
              "#9c179e"
             ],
             [
              0.4444444444444444,
              "#bd3786"
             ],
             [
              0.5555555555555556,
              "#d8576b"
             ],
             [
              0.6666666666666666,
              "#ed7953"
             ],
             [
              0.7777777777777778,
              "#fb9f3a"
             ],
             [
              0.8888888888888888,
              "#fdca26"
             ],
             [
              1,
              "#f0f921"
             ]
            ],
            "type": "surface"
           }
          ],
          "table": [
           {
            "cells": {
             "fill": {
              "color": "#EBF0F8"
             },
             "line": {
              "color": "white"
             }
            },
            "header": {
             "fill": {
              "color": "#C8D4E3"
             },
             "line": {
              "color": "white"
             }
            },
            "type": "table"
           }
          ]
         },
         "layout": {
          "annotationdefaults": {
           "arrowcolor": "#2a3f5f",
           "arrowhead": 0,
           "arrowwidth": 1
          },
          "autotypenumbers": "strict",
          "coloraxis": {
           "colorbar": {
            "outlinewidth": 0,
            "ticks": ""
           }
          },
          "colorscale": {
           "diverging": [
            [
             0,
             "#8e0152"
            ],
            [
             0.1,
             "#c51b7d"
            ],
            [
             0.2,
             "#de77ae"
            ],
            [
             0.3,
             "#f1b6da"
            ],
            [
             0.4,
             "#fde0ef"
            ],
            [
             0.5,
             "#f7f7f7"
            ],
            [
             0.6,
             "#e6f5d0"
            ],
            [
             0.7,
             "#b8e186"
            ],
            [
             0.8,
             "#7fbc41"
            ],
            [
             0.9,
             "#4d9221"
            ],
            [
             1,
             "#276419"
            ]
           ],
           "sequential": [
            [
             0,
             "#0d0887"
            ],
            [
             0.1111111111111111,
             "#46039f"
            ],
            [
             0.2222222222222222,
             "#7201a8"
            ],
            [
             0.3333333333333333,
             "#9c179e"
            ],
            [
             0.4444444444444444,
             "#bd3786"
            ],
            [
             0.5555555555555556,
             "#d8576b"
            ],
            [
             0.6666666666666666,
             "#ed7953"
            ],
            [
             0.7777777777777778,
             "#fb9f3a"
            ],
            [
             0.8888888888888888,
             "#fdca26"
            ],
            [
             1,
             "#f0f921"
            ]
           ],
           "sequentialminus": [
            [
             0,
             "#0d0887"
            ],
            [
             0.1111111111111111,
             "#46039f"
            ],
            [
             0.2222222222222222,
             "#7201a8"
            ],
            [
             0.3333333333333333,
             "#9c179e"
            ],
            [
             0.4444444444444444,
             "#bd3786"
            ],
            [
             0.5555555555555556,
             "#d8576b"
            ],
            [
             0.6666666666666666,
             "#ed7953"
            ],
            [
             0.7777777777777778,
             "#fb9f3a"
            ],
            [
             0.8888888888888888,
             "#fdca26"
            ],
            [
             1,
             "#f0f921"
            ]
           ]
          },
          "colorway": [
           "#636efa",
           "#EF553B",
           "#00cc96",
           "#ab63fa",
           "#FFA15A",
           "#19d3f3",
           "#FF6692",
           "#B6E880",
           "#FF97FF",
           "#FECB52"
          ],
          "font": {
           "color": "#2a3f5f"
          },
          "geo": {
           "bgcolor": "white",
           "lakecolor": "white",
           "landcolor": "#E5ECF6",
           "showlakes": true,
           "showland": true,
           "subunitcolor": "white"
          },
          "hoverlabel": {
           "align": "left"
          },
          "hovermode": "closest",
          "mapbox": {
           "style": "light"
          },
          "paper_bgcolor": "white",
          "plot_bgcolor": "#E5ECF6",
          "polar": {
           "angularaxis": {
            "gridcolor": "white",
            "linecolor": "white",
            "ticks": ""
           },
           "bgcolor": "#E5ECF6",
           "radialaxis": {
            "gridcolor": "white",
            "linecolor": "white",
            "ticks": ""
           }
          },
          "scene": {
           "xaxis": {
            "backgroundcolor": "#E5ECF6",
            "gridcolor": "white",
            "gridwidth": 2,
            "linecolor": "white",
            "showbackground": true,
            "ticks": "",
            "zerolinecolor": "white"
           },
           "yaxis": {
            "backgroundcolor": "#E5ECF6",
            "gridcolor": "white",
            "gridwidth": 2,
            "linecolor": "white",
            "showbackground": true,
            "ticks": "",
            "zerolinecolor": "white"
           },
           "zaxis": {
            "backgroundcolor": "#E5ECF6",
            "gridcolor": "white",
            "gridwidth": 2,
            "linecolor": "white",
            "showbackground": true,
            "ticks": "",
            "zerolinecolor": "white"
           }
          },
          "shapedefaults": {
           "line": {
            "color": "#2a3f5f"
           }
          },
          "ternary": {
           "aaxis": {
            "gridcolor": "white",
            "linecolor": "white",
            "ticks": ""
           },
           "baxis": {
            "gridcolor": "white",
            "linecolor": "white",
            "ticks": ""
           },
           "bgcolor": "#E5ECF6",
           "caxis": {
            "gridcolor": "white",
            "linecolor": "white",
            "ticks": ""
           }
          },
          "title": {
           "x": 0.05
          },
          "xaxis": {
           "automargin": true,
           "gridcolor": "white",
           "linecolor": "white",
           "ticks": "",
           "title": {
            "standoff": 15
           },
           "zerolinecolor": "white",
           "zerolinewidth": 2
          },
          "yaxis": {
           "automargin": true,
           "gridcolor": "white",
           "linecolor": "white",
           "ticks": "",
           "title": {
            "standoff": 15
           },
           "zerolinecolor": "white",
           "zerolinewidth": 2
          }
         }
        },
        "title": {
         "text": "<b>Average Number of words by each artist</b>"
        },
        "width": 500,
        "xaxis": {
         "title": {
          "text": "Artist Name"
         }
        },
        "yaxis": {
         "title": {
          "text": "Average Number of words"
         }
        }
       }
      }
     },
     "metadata": {},
     "output_type": "display_data"
    }
   ],
   "source": [
    "# Create a bar graph\n",
    "\n",
    "layout = go.Layout(title='<b>Average Number of words by each artist</b>')\n",
    "fig = go.Figure(data=[go.Bar(x=artist_names, y=artist_avg_num_words)],layout=layout)\n",
    "# Customize the layout\n",
    "fig.update_layout(xaxis_title='Artist Name', yaxis_title='Average Number of words', \n",
    "                   height=500, width=500)\n",
    "plotly.offline.iplot(fig)"
   ]
  },
  {
   "attachments": {},
   "cell_type": "markdown",
   "metadata": {},
   "source": [
    "- What are the most common words or phrases across all of the songs of an artist?\n",
    "- Are there any words or phrases that appear more frequently in the lyrics of certain artists?\n",
    "- Do certain artists tend to write longer or shorter songs than others?\n",
    "- Are there any trends or patterns in the sentiment of the lyrics over time or across different artists?\n",
    "- Are there any topics or themes that are particularly prevalent in the lyrics of certain artists or genres?\n",
    "- Are the songs of the artist similar and are the songs of different artists similart ?"
   ]
  },
  {
   "cell_type": "code",
   "execution_count": 472,
   "metadata": {},
   "outputs": [
    {
     "data": {
      "text/html": [
       "<div>\n",
       "<style scoped>\n",
       "    .dataframe tbody tr th:only-of-type {\n",
       "        vertical-align: middle;\n",
       "    }\n",
       "\n",
       "    .dataframe tbody tr th {\n",
       "        vertical-align: top;\n",
       "    }\n",
       "\n",
       "    .dataframe thead th {\n",
       "        text-align: right;\n",
       "    }\n",
       "</style>\n",
       "<table border=\"1\" class=\"dataframe\">\n",
       "  <thead>\n",
       "    <tr style=\"text-align: right;\">\n",
       "      <th></th>\n",
       "      <th>Frequency</th>\n",
       "    </tr>\n",
       "  </thead>\n",
       "  <tbody>\n",
       "    <tr>\n",
       "      <th>مش</th>\n",
       "      <td>161</td>\n",
       "    </tr>\n",
       "    <tr>\n",
       "      <th>عايز</th>\n",
       "      <td>23</td>\n",
       "    </tr>\n",
       "    <tr>\n",
       "      <th>ناس</th>\n",
       "      <td>23</td>\n",
       "    </tr>\n",
       "    <tr>\n",
       "      <th>كلام</th>\n",
       "      <td>22</td>\n",
       "    </tr>\n",
       "    <tr>\n",
       "      <th>لسه</th>\n",
       "      <td>20</td>\n",
       "    </tr>\n",
       "    <tr>\n",
       "      <th>...</th>\n",
       "      <td>...</td>\n",
       "    </tr>\n",
       "    <tr>\n",
       "      <th>نيجيلها</th>\n",
       "      <td>1</td>\n",
       "    </tr>\n",
       "    <tr>\n",
       "      <th>انجاز</th>\n",
       "      <td>1</td>\n",
       "    </tr>\n",
       "    <tr>\n",
       "      <th>كدا</th>\n",
       "      <td>1</td>\n",
       "    </tr>\n",
       "    <tr>\n",
       "      <th>نقيس</th>\n",
       "      <td>1</td>\n",
       "    </tr>\n",
       "    <tr>\n",
       "      <th>وانهي</th>\n",
       "      <td>1</td>\n",
       "    </tr>\n",
       "  </tbody>\n",
       "</table>\n",
       "<p>3721 rows × 1 columns</p>\n",
       "</div>"
      ],
      "text/plain": [
       "         Frequency\n",
       "مش             161\n",
       "عايز            23\n",
       "ناس             23\n",
       "كلام            22\n",
       "لسه             20\n",
       "...            ...\n",
       "نيجيلها          1\n",
       "انجاز            1\n",
       "كدا              1\n",
       "نقيس             1\n",
       "وانهي            1\n",
       "\n",
       "[3721 rows x 1 columns]"
      ]
     },
     "execution_count": 472,
     "metadata": {},
     "output_type": "execute_result"
    }
   ],
   "source": [
    "marawn_moussa_wf=get_artisit_word_freq(marawn_moussa_cleaned)\n",
    "marawn_moussa_wf"
   ]
  },
  {
   "cell_type": "code",
   "execution_count": 473,
   "metadata": {},
   "outputs": [],
   "source": [
    "def display_wordcloud(artist_df,cmap='Reds'):\n",
    "    mp_text=' '.join(artist_df['cleaned_lyrics'])\n",
    "    reshaped_text = arabic_reshaper.reshape(mp_text)\n",
    "    display_text = get_display(reshaped_text)\n",
    "    word_counts=Counter(mp_text.split())\n",
    "    font_path='NotoNaskhArabic-VariableFont_wght.ttf'\n",
    "    wordcloud = WordCloud (\n",
    "                        background_color = 'white',\n",
    "                        width = 500,\n",
    "                        height = 300,\n",
    "                        font_path=font_path,colormap = cmap).generate(display_text)\n",
    "\n",
    "    plt.imshow(wordcloud) # image show\n",
    "    plt.imshow(wordcloud, interpolation='bilinear')\n",
    "    plt.axis('off')"
   ]
  },
  {
   "attachments": {},
   "cell_type": "markdown",
   "metadata": {},
   "source": [
    "# Vectorizing Text For topic modeling and Similarity measures"
   ]
  },
  {
   "cell_type": "code",
   "execution_count": 487,
   "metadata": {},
   "outputs": [],
   "source": [
    "def vectorize_artist_text(artist_df,lyrics_col):\n",
    "    vectorizer=TfidfVectorizer()\n",
    "    vec=vectorizer.fit_transform(artist_df[lyrics_col])\n",
    "    print(vectorizer.get_feature_names_out())\n",
    "    df =pd.DataFrame(vec.toarray(), index=artist_df.index,columns=vectorizer.get_feature_names_out())\n",
    "    return df\n",
    "\n",
    "def get_similarity_matrix_of_artist(features_df):\n",
    "    sim_matrix=cosine_similarity(features_df)\n",
    "    print(sim_matrix.shape)\n",
    "    sim_df=pd.DataFrame(sim_matrix,index=features_df.index,columns=features_df.index)\n",
    "    return sim_df\n",
    "def draw_sim_matrix(sim_df):\n",
    "    fig, ax = plt.subplots(figsize=(10, 10))\n",
    "    ax.set_facecolor('None')\n",
    "    mask = np.triu(np.ones_like(sim_df, dtype=bool))\n",
    "    ax.set_xticks(np.arange(len(sim_df)))\n",
    "    ax.set_yticks(np.arange(len(sim_df)))\n",
    "    display_text=[]\n",
    "    for text in sim_df.index.values:\n",
    "        reshaped_text=arabic_reshaper.reshape(text)\n",
    "        display_text.append(get_display(reshaped_text))\n",
    "\n",
    "    sns.heatmap(sim_df, annot=False, cmap='Blues', \n",
    "                xticklabels=display_text, yticklabels=display_text,mask=mask)\n",
    "\n",
    "    \n",
    "    plt.show()\n",
    "    "
   ]
  },
  {
   "cell_type": "code",
   "execution_count": 488,
   "metadata": {},
   "outputs": [
    {
     "name": "stdout",
     "output_type": "stream",
     "text": [
      "['3aks' '3ela' '3la' ... 'چيب' 'چيم' 'ڤيو']\n",
      "(47, 47)\n"
     ]
    },
    {
     "data": {
      "image/png": "[encoded data removed]",
      "text/plain": [
       "<Figure size 1000x1000 with 2 Axes>"
      ]
     },
     "metadata": {},
     "output_type": "display_data"
    }
   ],
   "source": [
    "features_df=vectorize_artist_text(marawn_moussa_cleaned,lyrics_col='cleaned_lyrics')\n",
    "\n",
    "sim_df=get_similarity_matrix_of_artist(features_df)\n",
    "draw_sim_matrix(sim_df)"
   ]
  },
  {
   "cell_type": "code",
   "execution_count": 500,
   "metadata": {},
   "outputs": [
    {
     "name": "stdout",
     "output_type": "stream",
     "text": [
      "[[0.54431493]]\n"
     ]
    }
   ],
   "source": [
    "def get_similarity_of_songs(artist_df1,artist_df2,song_1=None,song_2=None,lyrics_col='cleaned_lyrics'):\n",
    "    vectorizer=TfidfVectorizer()\n",
    "    text_of_a1=''.join(artist_df1[lyrics_col])\n",
    "    text_of_a2=''.join(artist_df2[lyrics_col])\n",
    "    tfidf_matrix=vectorizer.fit_transform([text_of_a1,text_of_a2])\n",
    "    similarity = cosine_similarity(tfidf_matrix[0], tfidf_matrix[1])\n",
    "    return similarity\n",
    "\n",
    "similarity=get_similarity_of_songs(marawn_moussa_cleaned,Wegz_cleaned)\n",
    "print(similarity)"
   ]
  },
  {
   "cell_type": "code",
   "execution_count": 507,
   "metadata": {},
   "outputs": [
    {
     "data": {
      "text/plain": [
       "['عادي',\n",
       " 'فشخ',\n",
       " 'فشخ',\n",
       " 'تدي',\n",
       " 'ايحاء',\n",
       " 'روش',\n",
       " 'فشخ',\n",
       " 'حياتي',\n",
       " 'ممله',\n",
       " 'مسخ',\n",
       " 'مفيش',\n",
       " 'ابتكار',\n",
       " 'اصلاً',\n",
       " 'عايش',\n",
       " 'نسخ',\n",
       " 'نسخه',\n",
       " 'مستنسخ',\n",
       " 'مستنسخين',\n",
       " 'كلامي',\n",
       " 'عباره',\n",
       " 'نزيف',\n",
       " 'شرجي',\n",
       " 'تخين',\n",
       " 'مطرطش',\n",
       " 'حيطان',\n",
       " 'راسم',\n",
       " 'بدم',\n",
       " 'مدبوح',\n",
       " 'ميت',\n",
       " 'غرقان',\n",
       " 'حلمه',\n",
       " 'طموح',\n",
       " 'فتحها',\n",
       " 'عافيه',\n",
       " 'يتوف',\n",
       " 'قفلها',\n",
       " 'ببوقه',\n",
       " 'وغير',\n",
       " 'مدينه',\n",
       " 'مدينه',\n",
       " 'نمره',\n",
       " 'هتيجي',\n",
       " 'فقره',\n",
       " 'فقره',\n",
       " 'جابت',\n",
       " 'اخري',\n",
       " 'بتمثل',\n",
       " 'دور',\n",
       " 'طاهره',\n",
       " 'مش',\n",
       " 'لايق',\n",
       " 'مش',\n",
       " 'لايقه',\n",
       " 'بيحوش',\n",
       " 'فلوس',\n",
       " 'يجيب',\n",
       " 'بوكيه',\n",
       " 'صبار',\n",
       " 'ميت',\n",
       " 'مش',\n",
       " 'هتحتاج',\n",
       " 'تسقيه',\n",
       " 'عطشان',\n",
       " 'اصلاً',\n",
       " 'لسه',\n",
       " 'رميه',\n",
       " 'بتاعي',\n",
       " 'فاصل',\n",
       " 'عاده',\n",
       " 'تاني',\n",
       " 'بفك',\n",
       " 'دماغي',\n",
       " 'واطلع',\n",
       " 'معاني',\n",
       " 'راجع',\n",
       " 'كويس',\n",
       " 'احسن',\n",
       " 'تفهم',\n",
       " 'لوحدك',\n",
       " 'شرح',\n",
       " 'مطول',\n",
       " 'دراعي',\n",
       " 'حيطه',\n",
       " 'وسقفي',\n",
       " 'هبقي',\n",
       " 'غش',\n",
       " 'Beat',\n",
       " 'بار',\n",
       " 'Refresh',\n",
       " 'اهوش',\n",
       " 'تكش',\n",
       " 'اشوش',\n",
       " 'دماغك',\n",
       " 'ونقطع',\n",
       " 'دش',\n",
       " 'ابلك',\n",
       " 'تجف',\n",
       " 'ازفك',\n",
       " 'تخف',\n",
       " 'عينك',\n",
       " 'وعينك',\n",
       " 'ترف',\n",
       " 'اطحنلك',\n",
       " 'مزيكا',\n",
       " 'تقعد',\n",
       " 'تسف',\n",
       " 'دمي',\n",
       " 'رمله',\n",
       " 'دود',\n",
       " 'بيلف',\n",
       " 'لساني',\n",
       " 'فضاءها',\n",
       " 'ولو',\n",
       " 'غيري',\n",
       " 'تتف',\n",
       " 'متسربعه',\n",
       " 'تقلي',\n",
       " 'وبتقولي',\n",
       " 'خف',\n",
       " 'اعطسكوا',\n",
       " 'وانف',\n",
       " 'بختلف',\n",
       " 'معرفش',\n",
       " 'ابقي',\n",
       " 'عرص',\n",
       " 'لازم',\n",
       " 'اعترف',\n",
       " 'بنام',\n",
       " 'وبصحي',\n",
       " 'اوضه',\n",
       " 'اصغر',\n",
       " 'دماغي',\n",
       " 'عايش',\n",
       " 'مكتءب',\n",
       " 'افتراضي',\n",
       " 'وصفها',\n",
       " 'مفروض',\n",
       " 'فاهماني',\n",
       " 'حقيقه',\n",
       " 'بكدب',\n",
       " 'لسه',\n",
       " 'مقابلتش',\n",
       " 'جزءي',\n",
       " 'تاني',\n",
       " 'بيقولوا',\n",
       " 'مش',\n",
       " 'بفهم',\n",
       " 'ادبي',\n",
       " 'فتحت',\n",
       " 'سوسته',\n",
       " 'بنطلوني',\n",
       " 'ووريتهم',\n",
       " 'ادبي',\n",
       " 'حاجتين',\n",
       " 'حمام',\n",
       " 'بشخهم',\n",
       " 'واعمل',\n",
       " 'انجاز',\n",
       " 'ودي',\n",
       " 'اكل',\n",
       " 'باكله',\n",
       " 'كلام',\n",
       " 'ناس',\n",
       " 'موسيقي',\n",
       " 'داما',\n",
       " 'بيشم',\n",
       " 'مخدرات',\n",
       " 'مقطع',\n",
       " 'تاني',\n",
       " 'دماغي',\n",
       " 'بتسيح',\n",
       " 'محاط',\n",
       " 'احباط',\n",
       " 'قولولي',\n",
       " 'حاجه',\n",
       " 'افهمها',\n",
       " 'شايل',\n",
       " 'وداني',\n",
       " 'شفاط',\n",
       " 'بكلم',\n",
       " 'نفسي',\n",
       " 'ماكلنا',\n",
       " 'مرضي',\n",
       " 'متخافش',\n",
       " 'مش',\n",
       " 'جلطه',\n",
       " 'باصين',\n",
       " 'ارض',\n",
       " 'اعترافي',\n",
       " 'بمشاعري',\n",
       " 'غلطه',\n",
       " 'اعمل',\n",
       " 'نفسك',\n",
       " 'مهتم',\n",
       " 'اعمل',\n",
       " 'نفسك',\n",
       " 'بتعيش',\n",
       " 'دور',\n",
       " 'بوكيه',\n",
       " 'ورد',\n",
       " 'نص',\n",
       " 'حاره',\n",
       " 'وشي',\n",
       " 'ديكور',\n",
       " 'بحفر',\n",
       " 'حديد',\n",
       " 'بشوكه',\n",
       " 'بخزق',\n",
       " 'عينك',\n",
       " 'ازاز',\n",
       " 'بكره',\n",
       " 'بشر',\n",
       " 'فاكيد',\n",
       " 'ربي',\n",
       " 'مش',\n",
       " 'انسان',\n",
       " 'Ok',\n",
       " 'WoohWoWo',\n",
       " 'فاكر',\n",
       " 'وريهم',\n",
       " 'بقي',\n",
       " 'عايز',\n",
       " 'فين',\n",
       " 'بقت',\n",
       " 'بتدوس',\n",
       " 'بتفوز',\n",
       " 'كلام',\n",
       " 'مش',\n",
       " 'بفلوس',\n",
       " 'عايز',\n",
       " 'فين',\n",
       " 'تنفعش',\n",
       " 'تبقي',\n",
       " 'زميل',\n",
       " 'بتحرق',\n",
       " 'جاز',\n",
       " 'كتير',\n",
       " 'عرفتش',\n",
       " 'برضه',\n",
       " 'عايز',\n",
       " 'فين',\n",
       " 'بقت',\n",
       " 'اعلام',\n",
       " 'بتشيل',\n",
       " 'وتنام',\n",
       " 'بشر',\n",
       " 'بلسان',\n",
       " 'اهتم',\n",
       " 'بيبان',\n",
       " 'شغله',\n",
       " 'مش',\n",
       " 'هتبات',\n",
       " 'ووه',\n",
       " 'دُغري',\n",
       " 'مافيش',\n",
       " 'مجاملات',\n",
       " 'ووه',\n",
       " 'كاريزما',\n",
       " 'انور',\n",
       " 'سادات',\n",
       " 'ووه',\n",
       " 'قولي',\n",
       " 'عايز',\n",
       " 'فين',\n",
       " 'Beat',\n",
       " 'تع',\n",
       " 'نقدرها',\n",
       " 'Maratho',\n",
       " 'بجري',\n",
       " 'حكومه',\n",
       " 'بتطاردني',\n",
       " 'فيكوا',\n",
       " 'شاغلني',\n",
       " 'بيشغلنيش',\n",
       " 'وما',\n",
       " 'بيشغلنيش',\n",
       " 'اشباح',\n",
       " 'جان',\n",
       " 'كافه',\n",
       " 'هتلف',\n",
       " 'ميزان',\n",
       " 'بظبط',\n",
       " 'اداء',\n",
       " 'oh',\n",
       " 'Gucci',\n",
       " 'Gucci',\n",
       " 'Gucci',\n",
       " 'Ga',\n",
       " 'gومش',\n",
       " 'ب',\n",
       " 'بستشلحكوا',\n",
       " 'كلام',\n",
       " 'حطيتهملك',\n",
       " 'مزاد',\n",
       " 'حدش',\n",
       " 'هيدفع',\n",
       " 'قرش',\n",
       " 'ساغ',\n",
       " 'صاحبي',\n",
       " 'بنسخن',\n",
       " 'مناخ',\n",
       " 'Beatب',\n",
       " 'Milly',\n",
       " 'Rock',\n",
       " 'ومش',\n",
       " 'ب',\n",
       " 'Dap',\n",
       " 'Beat',\n",
       " 'روحي',\n",
       " 'Trap',\n",
       " 'خلاص',\n",
       " 'قربت',\n",
       " 'اكون',\n",
       " 'ه',\n",
       " 'ونجوم',\n",
       " 'ليل',\n",
       " 'مقدوري',\n",
       " 'اشلفلك',\n",
       " 'عايش',\n",
       " 'متربصلي',\n",
       " 'مش',\n",
       " 'هتسلك',\n",
       " 'مش',\n",
       " 'هتسلك',\n",
       " 'فبلاش',\n",
       " 'تشب',\n",
       " 'هتفضل',\n",
       " 'مش',\n",
       " 'طايل',\n",
       " 'وضع',\n",
       " 'طيران',\n",
       " 'ياريت',\n",
       " 'ترنش',\n",
       " 'موبايل',\n",
       " 'صاحبي',\n",
       " 'بنسعي',\n",
       " 'صاير',\n",
       " 'تضحكليش',\n",
       " 'وشي',\n",
       " 'بوشين',\n",
       " 'ملك',\n",
       " 'غيري',\n",
       " 'تبقي',\n",
       " 'بدعه',\n",
       " 'اكلت',\n",
       " 'جو',\n",
       " 'مافيش',\n",
       " 'فايض',\n",
       " 'عايز',\n",
       " 'مني',\n",
       " 'حبه',\n",
       " 'قولي',\n",
       " 'خلاص',\n",
       " 'بطلت',\n",
       " 'صحبه',\n",
       " 'بتجمع',\n",
       " 'حشيش',\n",
       " 'خلاص',\n",
       " 'بطلت',\n",
       " 'صحبه',\n",
       " 'بتجمع',\n",
       " 'حشيش',\n",
       " 'خلاص',\n",
       " 'بطلت',\n",
       " 'صحبه',\n",
       " 'بتجمع',\n",
       " 'حشيش',\n",
       " 'ومايشغلنيش',\n",
       " 'خلاص',\n",
       " 'بطلت',\n",
       " 'صحبه',\n",
       " 'بتجمع',\n",
       " 'حشيش',\n",
       " 'خلاص',\n",
       " 'بطلت',\n",
       " 'صحبه',\n",
       " 'بتجمع',\n",
       " 'حشيش',\n",
       " 'خلاص',\n",
       " 'بطلت',\n",
       " 'صحبه',\n",
       " 'بتجمع',\n",
       " 'حشيش',\n",
       " 'ومايشغلنيش',\n",
       " 'دماغنا',\n",
       " 'اتكلفت',\n",
       " 'تراب',\n",
       " 'لعبتنا',\n",
       " 'شباب',\n",
       " 'منا',\n",
       " 'اتعلمت',\n",
       " 'اساتذه',\n",
       " 'مبلم',\n",
       " 'عملت',\n",
       " 'ناس',\n",
       " 'شيء',\n",
       " 'ندل',\n",
       " 'متلومش',\n",
       " 'مايشغلنيش',\n",
       " 'بطلت',\n",
       " 'صحبه',\n",
       " 'بتجمع',\n",
       " 'حشيش',\n",
       " 'مجليش',\n",
       " 'صعب',\n",
       " 'ماديش',\n",
       " 'هديك',\n",
       " 'ازميلي',\n",
       " 'نصيحه',\n",
       " 'متحولنيش',\n",
       " 'صاحبي',\n",
       " 'مش',\n",
       " 'بهبد',\n",
       " 'قلبت',\n",
       " 'دنيا',\n",
       " 'مرمي',\n",
       " 'وعم',\n",
       " 'اسدد',\n",
       " 'ومش',\n",
       " 'متبت',\n",
       " 'نولعوها',\n",
       " 'عز',\n",
       " 'برد',\n",
       " 'قارص',\n",
       " 'صاحبي',\n",
       " 'شوف',\n",
       " 'لعب',\n",
       " 'مكشوف',\n",
       " 'حضرت',\n",
       " 'جن',\n",
       " 'قلبت',\n",
       " 'واقع',\n",
       " 'طرابزين',\n",
       " 'وهتلاقيهم',\n",
       " 'فوقك',\n",
       " 'طريقك',\n",
       " 'نازل',\n",
       " 'ازميلي',\n",
       " 'بيسوقاك',\n",
       " 'بيسوقاك',\n",
       " 'احتكار',\n",
       " 'بجري',\n",
       " 'تتار',\n",
       " 'كلامي',\n",
       " 'ناسبك',\n",
       " 'هيلففك',\n",
       " 'بحار',\n",
       " 'مزيكا',\n",
       " 'عامل',\n",
       " 'انصهار',\n",
       " 'كلام',\n",
       " 'كرتون',\n",
       " 'ليل',\n",
       " 'نهار',\n",
       " 'دماغي',\n",
       " 'فانتازيا',\n",
       " 'فشخ',\n",
       " 'يش',\n",
       " 'انتحار',\n",
       " 'طرزان',\n",
       " 'غابه',\n",
       " 'يبقي',\n",
       " 'اكيد',\n",
       " 'فضا',\n",
       " 'مافيش',\n",
       " 'كلام',\n",
       " 'اكيد',\n",
       " 'طز',\n",
       " 'يكره',\n",
       " 'اكون',\n",
       " 'سعيد',\n",
       " 'لساني',\n",
       " 'ترامبولين',\n",
       " 'بسلك',\n",
       " 'شايك',\n",
       " 'مشنوقين',\n",
       " 'فرحان',\n",
       " 'بتعامل',\n",
       " 'صافي',\n",
       " 'ناس',\n",
       " 'وسخه',\n",
       " 'اعترافي',\n",
       " 'ضغط',\n",
       " 'باشرافي',\n",
       " 'بنلعب',\n",
       " 'اضافي',\n",
       " 'عايم',\n",
       " 'بحر',\n",
       " 'ارانب',\n",
       " 'حاسس',\n",
       " 'قرصان',\n",
       " 'Beatبكسر',\n",
       " 'Roof',\n",
       " 'وابني',\n",
       " 'طحوله',\n",
       " 'قطط',\n",
       " 'وجبه',\n",
       " 'تونه',\n",
       " 'مستبيع',\n",
       " 'راسي',\n",
       " 'لرجلي',\n",
       " 'جينا',\n",
       " 'قبليك',\n",
       " 'بقينا',\n",
       " 'ستار',\n",
       " 'جينا',\n",
       " 'جنبيك',\n",
       " 'عملنا',\n",
       " 'حصار',\n",
       " 'دماغي',\n",
       " 'شغ',\n",
       " 'زرار',\n",
       " 'بقف',\n",
       " 'تاني',\n",
       " 'بقف',\n",
       " 'تاني',\n",
       " 'فكيت',\n",
       " 'مزامنه',\n",
       " 'ورحت',\n",
       " 'تاني',\n",
       " 'شتمته',\n",
       " 'رماني',\n",
       " 'شغلت',\n",
       " 'اغاني',\n",
       " 'فتحت',\n",
       " 'تلاجه',\n",
       " 'وده',\n",
       " 'شدني',\n",
       " 'بصطبح',\n",
       " 'ليل',\n",
       " 'فتحس',\n",
       " 'دماغي',\n",
       " 'خفافيش',\n",
       " 'بتنونو',\n",
       " 'راسم',\n",
       " 'حيطه',\n",
       " 'عندي',\n",
       " 'فلوهات',\n",
       " 'كتير',\n",
       " 'مستودع',\n",
       " 'مش',\n",
       " 'لازم',\n",
       " 'اقول',\n",
       " 'توكيل',\n",
       " 'احراج',\n",
       " 'زور',\n",
       " 'ومفك',\n",
       " 'مخه',\n",
       " 'مقفول',\n",
       " 'اوضتي',\n",
       " 'راس',\n",
       " 'واحده',\n",
       " 'جوه',\n",
       " 'صندوق',\n",
       " 'بتغني',\n",
       " 'Yeah',\n",
       " 'Yeah',\n",
       " 'yeah',\n",
       " 'Yeah',\n",
       " 'مكتوب',\n",
       " 'نصنع',\n",
       " 'مجد',\n",
       " 'نصنع',\n",
       " 'مجد',\n",
       " 'دور',\n",
       " 'We',\n",
       " 'started',\n",
       " 'baseme',\n",
       " 'ناس',\n",
       " 'بتشوف',\n",
       " 'فرق',\n",
       " 'ناس',\n",
       " 'بتشوف',\n",
       " 'فرق',\n",
       " 'ناس',\n",
       " 'بتشوف',\n",
       " 'فرق',\n",
       " 'فوق',\n",
       " 'زميلي',\n",
       " 'دوخه',\n",
       " 'بدون',\n",
       " 'كوكا',\n",
       " 'تيجي',\n",
       " 'نثبت',\n",
       " 'صنم',\n",
       " 'فوق',\n",
       " 'ازميلي',\n",
       " 'دوخه',\n",
       " 'كاني',\n",
       " 'سمسم',\n",
       " 'Beat',\n",
       " 'حط',\n",
       " 'Emoji',\n",
       " 'خوخه',\n",
       " 'Preachانا',\n",
       " 'مش',\n",
       " 'جاي',\n",
       " 'Moral',\n",
       " 'جاي',\n",
       " 'اقول',\n",
       " 'لازمه',\n",
       " 'وحش',\n",
       " 'شاشه',\n",
       " 'باقي',\n",
       " 'فطش',\n",
       " 'نازل',\n",
       " 'لطش',\n",
       " 'ماتش',\n",
       " 'Royal',\n",
       " 'Rumble',\n",
       " 'بتغاشم',\n",
       " 'افكرش',\n",
       " 'Ive',\n",
       " 'bee',\n",
       " 'dri',\n",
       " 'ki',\n",
       " 'g',\n",
       " 'much',\n",
       " 'Ive',\n",
       " 'bee',\n",
       " 'goi',\n",
       " 'g',\n",
       " 'far',\n",
       " 'اتكون',\n",
       " 'عندي',\n",
       " 'طاقه',\n",
       " 'معرفش',\n",
       " 'اسمها',\n",
       " 'Beatابعتلها',\n",
       " 'Message',\n",
       " 'نظام',\n",
       " 'اخد',\n",
       " 'طلقه',\n",
       " 'لمولوتوف',\n",
       " 'بقول',\n",
       " 'مش',\n",
       " 'صوت',\n",
       " 'بشوف',\n",
       " 'مرايتي',\n",
       " 'يوم',\n",
       " 'ياه',\n",
       " 'CAN’T',\n",
       " 'SEE',\n",
       " 'YALL',\n",
       " 'IN4',\n",
       " 'CAN’T',\n",
       " 'SEE',\n",
       " 'YALL',\n",
       " 'IN',\n",
       " 'THE',\n",
       " 'DARL',\n",
       " 'NEGA6',\n",
       " 'مروان',\n",
       " 'بابلو',\n",
       " 'ازميلي',\n",
       " 'ناس',\n",
       " 'مش',\n",
       " 'هتشوفنا',\n",
       " 'عادي',\n",
       " 'برا',\n",
       " 'ازميلي',\n",
       " 'مش',\n",
       " 'هشوفهم',\n",
       " 'رافع',\n",
       " 'دماغي',\n",
       " 'دماغي',\n",
       " 'First',\n",
       " 'class',\n",
       " 'ماشي',\n",
       " 'okay',\n",
       " 'جرعه',\n",
       " 'تموت',\n",
       " 'ماجي',\n",
       " 'ازنقها',\n",
       " 'تموه',\n",
       " 'عيدلي',\n",
       " 'مبنحرقش',\n",
       " 'بنزين',\n",
       " 'متجيش',\n",
       " 'بقي',\n",
       " 'تفول',\n",
       " 'متجيش',\n",
       " 'بقي',\n",
       " 'تفول',\n",
       " 'متجيش',\n",
       " 'بقي',\n",
       " 'تفول',\n",
       " 'مبنحرقش',\n",
       " 'جاز',\n",
       " 'كتير',\n",
       " 'اسف',\n",
       " 'ازميلي',\n",
       " 'بيدوب',\n",
       " 'كحل',\n",
       " 'وصلت',\n",
       " 'يقيد',\n",
       " 'نور',\n",
       " 'Cool',\n",
       " 'تعمل',\n",
       " 'اسطول',\n",
       " 'مش',\n",
       " 'هنبقي',\n",
       " 'Tour',\n",
       " 'اخدك',\n",
       " 'مجاري',\n",
       " 'نعمل',\n",
       " 'احلي',\n",
       " 'CAN’T',\n",
       " 'SEE',\n",
       " 'YALL',\n",
       " 'IN',\n",
       " 'THE',\n",
       " 'DARL',\n",
       " 'NEGA6',\n",
       " 'مقطع',\n",
       " 'ثاني',\n",
       " 'OBARZ',\n",
       " 'Thoughts',\n",
       " 'I’m',\n",
       " 'rude',\n",
       " 'If',\n",
       " 'k',\n",
       " 'ow',\n",
       " 'hommie',\n",
       " 'I’m',\n",
       " 'cool',\n",
       " 'Looki',\n",
       " 'vibes',\n",
       " 'Positive',\n",
       " 'mi',\n",
       " 'ds',\n",
       " 'Light',\n",
       " 'Light',\n",
       " 'Watch',\n",
       " 'iggas',\n",
       " 'follow',\n",
       " 'Pay',\n",
       " 'igga',\n",
       " 'Is',\n",
       " 'motto',\n",
       " 'Hash',\n",
       " 'came',\n",
       " 'Morroco',\n",
       " 'Got',\n",
       " 'feeli',\n",
       " 'like',\n",
       " 'pablo',\n",
       " 'I',\n",
       " 'zo',\n",
       " 'e',\n",
       " 'pablo',\n",
       " 'Never',\n",
       " 'idol',\n",
       " 'I',\n",
       " 'ru',\n",
       " '5',\n",
       " 'O',\n",
       " 'I',\n",
       " 'try',\n",
       " 'get',\n",
       " 'check',\n",
       " 'Throwi',\n",
       " 'diamo',\n",
       " 'ds',\n",
       " 'eck',\n",
       " 'Moved',\n",
       " 'lotta',\n",
       " 'percsets',\n",
       " 'Cou',\n",
       " 'mo',\n",
       " 'ey',\n",
       " 'double',\n",
       " 'check',\n",
       " 'I',\n",
       " 'ca',\n",
       " 'hear',\n",
       " 'mo',\n",
       " 'ey',\n",
       " 'calli',\n",
       " 'Trappi',\n",
       " 'early',\n",
       " 'mor',\n",
       " 'I',\n",
       " 'dream',\n",
       " 'ori',\n",
       " 'g',\n",
       " 'My',\n",
       " 'life',\n",
       " 'could',\n",
       " 'ever',\n",
       " 'bori',\n",
       " 'g',\n",
       " 'Could',\n",
       " 'ever',\n",
       " 'bori',\n",
       " 'g',\n",
       " 'I',\n",
       " 'feel',\n",
       " 'like',\n",
       " 'Tupac',\n",
       " 'eyes',\n",
       " 'Ayy',\n",
       " 'yah',\n",
       " 'Fucki',\n",
       " 'awesome',\n",
       " 'Yahyah',\n",
       " 'Yeah',\n",
       " 'مافيش',\n",
       " 'دراما',\n",
       " 'Fuck',\n",
       " 'مافيش',\n",
       " 'دراما',\n",
       " 'زميلي',\n",
       " 'وريني',\n",
       " 'ماده',\n",
       " 'عايزين',\n",
       " 'ناكلوا',\n",
       " 'عيش',\n",
       " 'نعملوا',\n",
       " 'فته',\n",
       " 'جايه',\n",
       " 'شام',\n",
       " 'نرقصوا',\n",
       " 'دبكه',\n",
       " 'عارفه',\n",
       " 'هداف',\n",
       " 'ابو',\n",
       " 'مكه',\n",
       " 'صاحبي',\n",
       " 'شارع',\n",
       " 'بيسلكش',\n",
       " 'سوس',\n",
       " 'عارفين',\n",
       " 'لعبه',\n",
       " 'فيهاش',\n",
       " 'حظوظ',\n",
       " 'BeatWelcome',\n",
       " 'بيك',\n",
       " 'Lobby',\n",
       " 'مش',\n",
       " 'ناوي',\n",
       " 'دور',\n",
       " 'هتموت',\n",
       " 'Nigga',\n",
       " 'like',\n",
       " 'Pah',\n",
       " 'Pah',\n",
       " 'Im',\n",
       " 'ru',\n",
       " 'g',\n",
       " 'game',\n",
       " 'Nigga',\n",
       " 'mad',\n",
       " 'Cause',\n",
       " 'were',\n",
       " 'ot',\n",
       " 'same',\n",
       " 'Yeah',\n",
       " 'هتشيط',\n",
       " 'Beatكلها',\n",
       " 'بتحملج',\n",
       " 'Feat',\n",
       " 'عايز',\n",
       " 'غِني',\n",
       " 'مش',\n",
       " 'صِيت',\n",
       " 'هتقل',\n",
       " 'وده',\n",
       " 'اكيد',\n",
       " 'ياه',\n",
       " 'Beatانت',\n",
       " 'بتبمبك',\n",
       " 'مش',\n",
       " 'Comeback',\n",
       " 'اسطمبه',\n",
       " 'كاسر',\n",
       " 'لمبه',\n",
       " 'شمبر',\n",
       " 'مش',\n",
       " 'شايف',\n",
       " 'حد',\n",
       " 'اوضه',\n",
       " 'ضلمه',\n",
       " 'بابلو',\n",
       " 'بارع',\n",
       " 'برود',\n",
       " 'بابلو',\n",
       " 'حلو',\n",
       " 'اسود',\n",
       " 'خمسه',\n",
       " 'حسود',\n",
       " 'حصلتوش',\n",
       " 'برود',\n",
       " 'You',\n",
       " 'iggas',\n",
       " 't',\n",
       " 'k',\n",
       " 'ow',\n",
       " 'shootow',\n",
       " 'WًoaWoa',\n",
       " 'Woa',\n",
       " 'WoaWoa',\n",
       " 'WًoaWoa',\n",
       " 'Woa',\n",
       " 'WoaWoa',\n",
       " 'اشجار',\n",
       " 'وتلج',\n",
       " 'وميه',\n",
       " 'اصتفات',\n",
       " 'ميه',\n",
       " 'اشجار',\n",
       " 'وتلج',\n",
       " 'وميه',\n",
       " 'اصتفات',\n",
       " 'ميه',\n",
       " 'خد',\n",
       " 'ليك',\n",
       " 'سيب',\n",
       " 'Beat',\n",
       " 'After',\n",
       " 'Party',\n",
       " 'صباحيه',\n",
       " 'اشجار',\n",
       " 'وتلج',\n",
       " 'وميه',\n",
       " 'اصتفات',\n",
       " 'ميه',\n",
       " 'خد',\n",
       " 'ليك',\n",
       " 'سيب',\n",
       " 'Beat',\n",
       " 'After',\n",
       " 'Party',\n",
       " 'صباحيه',\n",
       " 'عمرو',\n",
       " 'عواد',\n",
       " 'اولي',\n",
       " 'اشجار',\n",
       " 'تتلف',\n",
       " 'تانيه',\n",
       " 'تلج',\n",
       " 'يتسف',\n",
       " 'ته',\n",
       " 'ميه',\n",
       " 'تتصب',\n",
       " 'ناسي',\n",
       " 'حاجه',\n",
       " 'متكي',\n",
       " 'عَلي',\n",
       " 'صبر',\n",
       " 'بتاعي',\n",
       " 'ريس',\n",
       " 'حرب',\n",
       " 'راجع',\n",
       " 'ابني',\n",
       " 'مدنكم',\n",
       " 'قصر',\n",
       " 'ملوك',\n",
       " 'انيمكم',\n",
       " 'عصر',\n",
       " 'ملوك',\n",
       " 'لسه',\n",
       " 'قبر',\n",
       " 'Beatحاطت',\n",
       " 'بنها',\n",
       " 'Map',\n",
       " 'ڤيرزاتي',\n",
       " 'تتلم',\n",
       " 'كتاب',\n",
       " 'ڤيرزاتشي',\n",
       " 'دولاب',\n",
       " 'حاقدين',\n",
       " 'اكتءاب',\n",
       " 'صحاب',\n",
       " 'بقو',\n",
       " 'اغراب',\n",
       " 'احباب',\n",
       " 'ضاعوا',\n",
       " 'سراب',\n",
       " 'بلح',\n",
       " 'يملي',\n",
       " 'عينهم',\n",
       " 'تراب',\n",
       " 'BeatID',\n",
       " 'Royal',\n",
       " 'خراب',\n",
       " 'كلكم',\n",
       " 'عشري',\n",
       " 'ابراهيم',\n",
       " 'مش',\n",
       " 'لءيم',\n",
       " 'غشيم',\n",
       " 'اسفين',\n",
       " 'حبونا',\n",
       " 'كارهين',\n",
       " 'نقرا',\n",
       " 'فاتحه',\n",
       " 'حاقدين',\n",
       " 'ساعه',\n",
       " 'سلام',\n",
       " ...]"
      ]
     },
     "execution_count": 507,
     "metadata": {},
     "output_type": "execute_result"
    }
   ],
   "source": [
    "data_words = ' '.join(marawn_pablo_cleaned['cleaned_lyrics'])\n",
    "gensim=data_words.split()"
   ]
  },
  {
   "cell_type": "code",
   "execution_count": 540,
   "metadata": {},
   "outputs": [
    {
     "name": "stdout",
     "output_type": "stream",
     "text": [
      "Topic 0: مش كلام اوكيه مشكلتي برو\n",
      "Topic 1: مش بس قدري تيجي دلوقتي\n",
      "Topic 2: مش ناس ay ya سما\n",
      "Topic 3: مش دنيا عندي عايز بتسل\n"
     ]
    }
   ],
   "source": [
    "from sklearn.decomposition import LatentDirichletAllocation\n",
    "\n",
    "vectorizer = CountVectorizer(stop_words='english', lowercase=True)\n",
    "tfidf = vectorizer.fit_transform(marawn_moussa_cleaned['cleaned_lyrics'])\n",
    "# Train the LDA model\n",
    "num_topics = 4\n",
    "lda_model = LatentDirichletAllocation(n_components=num_topics, learning_method='online')\n",
    "lda_model.fit(tfidf)\n",
    "\n",
    "# Print the top keywords for each topic\n",
    "for topic_idx, topic in enumerate(lda_model.components_):\n",
    "    print(f\"Topic {topic_idx}: {' '.join([vectorizer.get_feature_names_out()[i] for i in topic.argsort()[:-6:-1]])}\")"
   ]
  },
  {
   "cell_type": "code",
   "execution_count": null,
   "metadata": {},
   "outputs": [],
   "source": [
    "marawn_pablo_cleaned.to_csv('Marawn pablo cleaned.csv')\n",
    "marawn_moussa_cleaned.to_csv('Marawn moussa cleaned.csv')\n",
    "Wegz_cleaned.to_csv('Wegz cleaned.csv')\n",
    "Afroto_cleaned.to_csv('Afroto cleaned.csv')\n",
    "abyo_cleaned.to_csv('Abyusif cleaned.csv')"
   ]
  },
  {
   "cell_type": "code",
   "execution_count": null,
   "metadata": {},
   "outputs": [],
   "source": []
  }
 ],
 "metadata": {
  "kernelspec": {
   "display_name": "Python 3",
   "language": "python",
   "name": "python3"
  },
  "language_info": {
   "codemirror_mode": {
    "name": "ipython",
    "version": 3
   },
   "file_extension": ".py",
   "mimetype": "text/x-python",
   "name": "python",
   "nbconvert_exporter": "python",
   "pygments_lexer": "ipython3",
   "version": "3.10.11"
  },
  "orig_nbformat": 4
 },
 "nbformat": 4,
 "nbformat_minor": 2
}
